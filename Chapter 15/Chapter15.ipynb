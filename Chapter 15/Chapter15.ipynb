{
 "cells": [
  {
   "cell_type": "code",
   "id": "initial_id",
   "metadata": {
    "collapsed": true,
    "ExecuteTime": {
     "end_time": "2025-02-10T10:16:06.281568Z",
     "start_time": "2025-02-10T10:16:05.670161Z"
    }
   },
   "source": [
    "import numpy as np\n",
    "import pandas as pd "
   ],
   "outputs": [],
   "execution_count": 1
  },
  {
   "metadata": {},
   "cell_type": "markdown",
   "source": "# 1 - Convert a column with date information to a date  ",
   "id": "40aef3836f1dd910"
  },
  {
   "metadata": {
    "ExecuteTime": {
     "end_time": "2025-02-10T10:17:36.425940Z",
     "start_time": "2025-02-10T10:17:36.420713Z"
    }
   },
   "cell_type": "code",
   "source": "url = 'https://github.com/mattharrison/datasets/raw/master/data/alta-noaa-1980-2019.csv'",
   "id": "b757ce0852adfa90",
   "outputs": [],
   "execution_count": 2
  },
  {
   "metadata": {
    "ExecuteTime": {
     "end_time": "2025-02-10T11:05:48.859829Z",
     "start_time": "2025-02-10T11:05:48.000256Z"
    }
   },
   "cell_type": "code",
   "source": [
    "alta_df = pd.read_csv(url,engine='pyarrow',dtype_backend='pyarrow')\n",
    "dates = pd.to_datetime(alta_df.DATE)"
   ],
   "id": "869eeed23bcae45c",
   "outputs": [],
   "execution_count": 72
  },
  {
   "metadata": {
    "ExecuteTime": {
     "end_time": "2025-02-10T11:05:49.557590Z",
     "start_time": "2025-02-10T11:05:49.420378Z"
    }
   },
   "cell_type": "code",
   "source": "snow = alta_df.SNOW.rename(dates)",
   "id": "e442a56b13a0acdc",
   "outputs": [],
   "execution_count": 73
  },
  {
   "metadata": {
    "ExecuteTime": {
     "end_time": "2025-02-10T11:05:49.808745Z",
     "start_time": "2025-02-10T11:05:49.803932Z"
    }
   },
   "cell_type": "code",
   "source": "snow.sample(10)",
   "id": "c6bd5d5a40520d36",
   "outputs": [
    {
     "data": {
      "text/plain": [
       "2010-12-04    0.0\n",
       "2018-10-30    0.4\n",
       "2014-01-02    0.0\n",
       "2003-04-22    0.0\n",
       "2014-03-11    8.0\n",
       "2004-07-22    0.0\n",
       "1987-05-16    0.0\n",
       "2019-08-23    0.0\n",
       "2008-10-24    0.0\n",
       "2007-07-15    0.0\n",
       "Name: SNOW, dtype: double[pyarrow]"
      ]
     },
     "execution_count": 74,
     "metadata": {},
     "output_type": "execute_result"
    }
   ],
   "execution_count": 74
  },
  {
   "metadata": {},
   "cell_type": "markdown",
   "source": "# 2 - Put the date information into the index for a numeric column",
   "id": "463ba5eb32289bf5"
  },
  {
   "metadata": {
    "ExecuteTime": {
     "end_time": "2025-02-10T11:05:50.220424Z",
     "start_time": "2025-02-10T11:05:50.218712Z"
    }
   },
   "cell_type": "code",
   "source": "",
   "id": "80c81df637909d22",
   "outputs": [],
   "execution_count": 74
  },
  {
   "metadata": {},
   "cell_type": "markdown",
   "source": "# 3 - Calculate the average value of the column for each month ",
   "id": "543f29d9351f1cdc"
  },
  {
   "metadata": {
    "ExecuteTime": {
     "end_time": "2025-02-10T11:05:50.556952Z",
     "start_time": "2025-02-10T11:05:50.539421Z"
    }
   },
   "cell_type": "code",
   "source": "snow.resample('2ME').mean()",
   "id": "af910439825edc14",
   "outputs": [
    {
     "data": {
      "text/plain": [
       "1980-01-31    4.645161\n",
       "1980-03-31       3.925\n",
       "1980-05-31    1.262295\n",
       "1980-07-31    0.016393\n",
       "1980-09-30         0.0\n",
       "                ...   \n",
       "2019-01-31    2.459016\n",
       "2019-03-31    3.459322\n",
       "2019-05-31    1.342623\n",
       "2019-07-31         0.0\n",
       "2019-09-30         0.0\n",
       "Freq: 2ME, Name: SNOW, Length: 239, dtype: double[pyarrow]"
      ]
     },
     "execution_count": 75,
     "metadata": {},
     "output_type": "execute_result"
    }
   ],
   "execution_count": 75
  },
  {
   "metadata": {},
   "cell_type": "markdown",
   "source": "# 4 - Calculate the average value of the column for every two months ",
   "id": "a3d03a767d8d2cf8"
  },
  {
   "metadata": {
    "ExecuteTime": {
     "end_time": "2025-02-10T11:05:50.886794Z",
     "start_time": "2025-02-10T11:05:50.878869Z"
    }
   },
   "cell_type": "code",
   "source": "snow.resample(\"2ME\").mean()",
   "id": "94644c880916976a",
   "outputs": [
    {
     "data": {
      "text/plain": [
       "1980-01-31    4.645161\n",
       "1980-03-31       3.925\n",
       "1980-05-31    1.262295\n",
       "1980-07-31    0.016393\n",
       "1980-09-30         0.0\n",
       "                ...   \n",
       "2019-01-31    2.459016\n",
       "2019-03-31    3.459322\n",
       "2019-05-31    1.342623\n",
       "2019-07-31         0.0\n",
       "2019-09-30         0.0\n",
       "Freq: 2ME, Name: SNOW, Length: 239, dtype: double[pyarrow]"
      ]
     },
     "execution_count": 76,
     "metadata": {},
     "output_type": "execute_result"
    }
   ],
   "execution_count": 76
  },
  {
   "metadata": {},
   "cell_type": "markdown",
   "source": "# 5- Calculate the percentage of the column out of the total for each month",
   "id": "1133376108377de3"
  },
  {
   "metadata": {
    "ExecuteTime": {
     "end_time": "2025-02-10T11:05:51.490573Z",
     "start_time": "2025-02-10T11:05:51.361122Z"
    }
   },
   "cell_type": "code",
   "source": [
    "def calculate_pct(s):\n",
    "    return s.div(s.sum()).mul(100)\n",
    "\n",
    "snow.groupby(snow.index.to_period(\"M\")).apply(calculate_pct)\n"
   ],
   "id": "9a8e3a262284e538",
   "outputs": [
    {
     "data": {
      "text/plain": [
       "1980-01  1980-01-01    1.388889\n",
       "         1980-01-02    2.083333\n",
       "         1980-01-03    0.694444\n",
       "         1980-01-04         0.0\n",
       "         1980-01-05         0.0\n",
       "                         ...   \n",
       "2019-09  2019-09-03         NaN\n",
       "         2019-09-04         NaN\n",
       "         2019-09-05         NaN\n",
       "         2019-09-06         NaN\n",
       "         2019-09-07         NaN\n",
       "Name: SNOW, Length: 14160, dtype: double[pyarrow]"
      ]
     },
     "execution_count": 77,
     "metadata": {},
     "output_type": "execute_result"
    }
   ],
   "execution_count": 77
  },
  {
   "metadata": {},
   "cell_type": "markdown",
   "source": "# 6 - Calculate the average value of the column for a rolling window of size 7",
   "id": "4b2057a3c492901d"
  },
  {
   "metadata": {
    "ExecuteTime": {
     "end_time": "2025-02-10T11:05:51.755307Z",
     "start_time": "2025-02-10T11:05:51.750216Z"
    }
   },
   "cell_type": "code",
   "source": "snow.rolling(window=7).mean()",
   "id": "29ebcdd51f45cc61",
   "outputs": [
    {
     "data": {
      "text/plain": [
       "1980-01-01    NaN\n",
       "1980-01-02    NaN\n",
       "1980-01-03    NaN\n",
       "1980-01-04    NaN\n",
       "1980-01-05    NaN\n",
       "             ... \n",
       "2019-09-03    0.0\n",
       "2019-09-04    0.0\n",
       "2019-09-05    0.0\n",
       "2019-09-06    0.0\n",
       "2019-09-07    0.0\n",
       "Name: SNOW, Length: 14160, dtype: float64"
      ]
     },
     "execution_count": 78,
     "metadata": {},
     "output_type": "execute_result"
    }
   ],
   "execution_count": 78
  },
  {
   "metadata": {},
   "cell_type": "markdown",
   "source": "# 7 - Using .loc pull out the first three months of a year",
   "id": "20eb25bdbaed9cd9"
  },
  {
   "metadata": {
    "ExecuteTime": {
     "end_time": "2025-02-10T11:05:52.494331Z",
     "start_time": "2025-02-10T11:05:52.481727Z"
    }
   },
   "cell_type": "code",
   "source": [
    "year = pd.Series(snow.index.year)\n",
    "year = year.drop_duplicates().astype('category')\n",
    "year"
   ],
   "id": "ec70a9e7ea71fcd0",
   "outputs": [
    {
     "data": {
      "text/plain": [
       "0        1980\n",
       "366      1981\n",
       "731      1982\n",
       "1096     1983\n",
       "1461     1984\n",
       "1827     1985\n",
       "2192     1986\n",
       "2556     1987\n",
       "2921     1988\n",
       "3286     1989\n",
       "3651     1990\n",
       "4015     1991\n",
       "4379     1992\n",
       "4714     1993\n",
       "5078     1994\n",
       "5413     1995\n",
       "5777     1996\n",
       "6141     1997\n",
       "6505     1998\n",
       "6868     1999\n",
       "7232     2000\n",
       "7598     2001\n",
       "7932     2002\n",
       "8295     2003\n",
       "8659     2004\n",
       "8994     2005\n",
       "9359     2006\n",
       "9694     2007\n",
       "9996     2008\n",
       "10362    2009\n",
       "10720    2010\n",
       "11076    2011\n",
       "11414    2012\n",
       "11761    2013\n",
       "12103    2014\n",
       "12460    2015\n",
       "12816    2016\n",
       "13182    2017\n",
       "13546    2018\n",
       "13911    2019\n",
       "dtype: category\n",
       "Categories (40, int32): [1980, 1981, 1982, 1983, ..., 2016, 2017, 2018, 2019]"
      ]
     },
     "execution_count": 79,
     "metadata": {},
     "output_type": "execute_result"
    }
   ],
   "execution_count": 79
  },
  {
   "metadata": {
    "ExecuteTime": {
     "end_time": "2025-02-10T11:05:52.758759Z",
     "start_time": "2025-02-10T11:05:52.747705Z"
    }
   },
   "cell_type": "code",
   "source": "snow.loc[(snow.index.month <= 3) & (snow.index.year == 2010)]",
   "id": "f9606344424fe4c0",
   "outputs": [
    {
     "data": {
      "text/plain": [
       "2010-01-01     2.0\n",
       "2010-01-02     2.5\n",
       "2010-01-03     0.0\n",
       "2010-01-04     0.0\n",
       "2010-01-06    <NA>\n",
       "              ... \n",
       "2010-03-26     7.0\n",
       "2010-03-27     0.0\n",
       "2010-03-28     0.0\n",
       "2010-03-29     0.0\n",
       "2010-03-31    <NA>\n",
       "Name: SNOW, Length: 83, dtype: double[pyarrow]"
      ]
     },
     "execution_count": 80,
     "metadata": {},
     "output_type": "execute_result"
    }
   ],
   "execution_count": 80
  },
  {
   "metadata": {},
   "cell_type": "markdown",
   "source": "# 8 - Using .loc pull out the last four  months of a year",
   "id": "d40a6401c7be2d4e"
  },
  {
   "metadata": {
    "ExecuteTime": {
     "end_time": "2025-02-10T11:05:53.613688Z",
     "start_time": "2025-02-10T11:05:53.601371Z"
    }
   },
   "cell_type": "code",
   "source": "snow.loc[(snow.index.month >= 9) & (snow.index.year == 2001)]",
   "id": "8cbaca8a47a7efcc",
   "outputs": [
    {
     "data": {
      "text/plain": [
       "2001-09-01    0.0\n",
       "2001-09-02    0.0\n",
       "2001-09-03    0.0\n",
       "2001-09-04    0.0\n",
       "2001-09-05    0.0\n",
       "             ... \n",
       "2001-12-27    1.0\n",
       "2001-12-28    0.0\n",
       "2001-12-29    0.0\n",
       "2001-12-30    2.0\n",
       "2001-12-31    0.0\n",
       "Name: SNOW, Length: 91, dtype: double[pyarrow]"
      ]
     },
     "execution_count": 81,
     "metadata": {},
     "output_type": "execute_result"
    }
   ],
   "execution_count": 81
  },
  {
   "metadata": {
    "ExecuteTime": {
     "end_time": "2025-02-10T11:04:42.558217Z",
     "start_time": "2025-02-10T11:04:42.553359Z"
    }
   },
   "cell_type": "code",
   "source": "",
   "id": "dbc4d6a2d1a15a10",
   "outputs": [],
   "execution_count": 67
  }
 ],
 "metadata": {
  "kernelspec": {
   "display_name": "Python 3",
   "language": "python",
   "name": "python3"
  },
  "language_info": {
   "codemirror_mode": {
    "name": "ipython",
    "version": 2
   },
   "file_extension": ".py",
   "mimetype": "text/x-python",
   "name": "python",
   "nbconvert_exporter": "python",
   "pygments_lexer": "ipython2",
   "version": "2.7.6"
  }
 },
 "nbformat": 4,
 "nbformat_minor": 5
}
