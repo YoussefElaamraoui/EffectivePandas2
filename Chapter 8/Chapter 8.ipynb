{
 "cells": [
  {
   "metadata": {},
   "cell_type": "markdown",
   "source": [
    "# Exercises\n",
    "1. Add a numeric seris to itself\n",
    "2. Add 10 to a numericc series\n",
    "3. Use the .add method to add a numeric series\n",
    "4. Read the documentation for the .add method"
   ],
   "id": "515d93cd0784ed2a"
  },
  {
   "cell_type": "code",
   "id": "initial_id",
   "metadata": {
    "collapsed": true,
    "ExecuteTime": {
     "end_time": "2025-01-23T12:59:46.706528Z",
     "start_time": "2025-01-23T12:59:45.604682Z"
    }
   },
   "source": [
    "import pandas as pd \n",
    "import numpy as np"
   ],
   "outputs": [],
   "execution_count": 2
  },
  {
   "metadata": {
    "ExecuteTime": {
     "end_time": "2025-01-23T12:59:47.545880Z",
     "start_time": "2025-01-23T12:59:47.537658Z"
    }
   },
   "cell_type": "code",
   "source": [
    "series_1 = pd.Series(np.random.rand(5))\n",
    "series_2 = pd.Series(np.random.rand(10))"
   ],
   "id": "bd96adf404f42e67",
   "outputs": [],
   "execution_count": 3
  },
  {
   "metadata": {
    "ExecuteTime": {
     "end_time": "2025-01-23T13:00:20.563879Z",
     "start_time": "2025-01-23T13:00:20.531720Z"
    }
   },
   "cell_type": "code",
   "source": "print(series_1)",
   "id": "6390ca8cec8195fc",
   "outputs": [
    {
     "name": "stdout",
     "output_type": "stream",
     "text": [
      "0    0.986448\n",
      "1    0.468043\n",
      "2    0.177454\n",
      "3    0.770873\n",
      "4    0.028545\n",
      "dtype: float64\n"
     ]
    }
   ],
   "execution_count": 5
  },
  {
   "metadata": {
    "ExecuteTime": {
     "end_time": "2025-01-23T13:00:24.963897Z",
     "start_time": "2025-01-23T13:00:24.953029Z"
    }
   },
   "cell_type": "code",
   "source": "print(series_2)",
   "id": "b662dc44ae88b3e1",
   "outputs": [
    {
     "name": "stdout",
     "output_type": "stream",
     "text": [
      "0    0.665563\n",
      "1    0.655996\n",
      "2    0.297710\n",
      "3    0.497835\n",
      "4    0.371341\n",
      "5    0.150639\n",
      "6    0.389377\n",
      "7    0.675171\n",
      "8    0.317788\n",
      "9    0.352505\n",
      "dtype: float64\n"
     ]
    }
   ],
   "execution_count": 6
  },
  {
   "metadata": {},
   "cell_type": "markdown",
   "source": "# First Exercise",
   "id": "59371920e7c02a81"
  },
  {
   "metadata": {
    "ExecuteTime": {
     "end_time": "2025-01-23T13:04:46.117449Z",
     "start_time": "2025-01-23T13:04:46.085004Z"
    }
   },
   "cell_type": "code",
   "source": "series_1 + series_1",
   "id": "a6e24c30f649efb9",
   "outputs": [
    {
     "data": {
      "text/plain": [
       "0    1.972897\n",
       "1    0.936087\n",
       "2    0.354909\n",
       "3    1.541745\n",
       "4    0.057090\n",
       "dtype: float64"
      ]
     },
     "execution_count": 13,
     "metadata": {},
     "output_type": "execute_result"
    }
   ],
   "execution_count": 13
  },
  {
   "metadata": {
    "ExecuteTime": {
     "end_time": "2025-01-23T13:04:58.869299Z",
     "start_time": "2025-01-23T13:04:58.853236Z"
    }
   },
   "cell_type": "code",
   "source": "series_1.add(series_1)",
   "id": "b8f13647161dac9d",
   "outputs": [
    {
     "data": {
      "text/plain": [
       "0    1.972897\n",
       "1    0.936087\n",
       "2    0.354909\n",
       "3    1.541745\n",
       "4    0.057090\n",
       "dtype: float64"
      ]
     },
     "execution_count": 14,
     "metadata": {},
     "output_type": "execute_result"
    }
   ],
   "execution_count": 14
  },
  {
   "metadata": {},
   "cell_type": "markdown",
   "source": "# Second Exercise",
   "id": "6a391647cf63a10d"
  },
  {
   "metadata": {
    "ExecuteTime": {
     "end_time": "2025-01-23T13:05:01.195454Z",
     "start_time": "2025-01-23T13:05:01.180961Z"
    }
   },
   "cell_type": "code",
   "source": "series_1.add(10)",
   "id": "c76c5b5a397da8ae",
   "outputs": [
    {
     "data": {
      "text/plain": [
       "0    10.986448\n",
       "1    10.468043\n",
       "2    10.177454\n",
       "3    10.770873\n",
       "4    10.028545\n",
       "dtype: float64"
      ]
     },
     "execution_count": 15,
     "metadata": {},
     "output_type": "execute_result"
    }
   ],
   "execution_count": 15
  },
  {
   "metadata": {
    "ExecuteTime": {
     "end_time": "2025-01-23T13:05:01.387664Z",
     "start_time": "2025-01-23T13:05:01.382742Z"
    }
   },
   "cell_type": "code",
   "source": "series_1 + 10",
   "id": "9d99436efb2cf514",
   "outputs": [
    {
     "data": {
      "text/plain": [
       "0    10.986448\n",
       "1    10.468043\n",
       "2    10.177454\n",
       "3    10.770873\n",
       "4    10.028545\n",
       "dtype: float64"
      ]
     },
     "execution_count": 16,
     "metadata": {},
     "output_type": "execute_result"
    }
   ],
   "execution_count": 16
  },
  {
   "metadata": {},
   "cell_type": "markdown",
   "source": "# Third Exercise",
   "id": "310baccd136e5906"
  },
  {
   "metadata": {
    "ExecuteTime": {
     "end_time": "2025-01-23T13:05:25.595203Z",
     "start_time": "2025-01-23T13:05:25.572755Z"
    }
   },
   "cell_type": "code",
   "source": "series_2.add(series_1)",
   "id": "b8114f0f03bba564",
   "outputs": [
    {
     "data": {
      "text/plain": [
       "0    1.652011\n",
       "1    1.124040\n",
       "2    0.475164\n",
       "3    1.268708\n",
       "4    0.399886\n",
       "5         NaN\n",
       "6         NaN\n",
       "7         NaN\n",
       "8         NaN\n",
       "9         NaN\n",
       "dtype: float64"
      ]
     },
     "execution_count": 17,
     "metadata": {},
     "output_type": "execute_result"
    }
   ],
   "execution_count": 17
  },
  {
   "metadata": {
    "ExecuteTime": {
     "end_time": "2025-01-23T13:05:41.440419Z",
     "start_time": "2025-01-23T13:05:41.423350Z"
    }
   },
   "cell_type": "code",
   "source": "series_1.add(series_2)",
   "id": "b006adf9c9ea4e64",
   "outputs": [
    {
     "data": {
      "text/plain": [
       "0    1.652011\n",
       "1    1.124040\n",
       "2    0.475164\n",
       "3    1.268708\n",
       "4    0.399886\n",
       "5         NaN\n",
       "6         NaN\n",
       "7         NaN\n",
       "8         NaN\n",
       "9         NaN\n",
       "dtype: float64"
      ]
     },
     "execution_count": 18,
     "metadata": {},
     "output_type": "execute_result"
    }
   ],
   "execution_count": 18
  },
  {
   "metadata": {},
   "cell_type": "markdown",
   "source": "# Fourth Exercise",
   "id": "b49cf2bf40f83564"
  },
  {
   "metadata": {},
   "cell_type": "markdown",
   "source": [
    "# This is the documentation \n",
    "\n",
    "Series.add(other, level=None, fill_value=None, axis=0)\n",
    "\n",
    "Return Addition of series and other, element-wise (binary operator add).\n",
    "\n",
    "Equivalent to series + other, but with support to substitute a fill_value for missing data in either one of the inputs."
   ],
   "id": "b86f9948ba2caed6"
  }
 ],
 "metadata": {
  "kernelspec": {
   "display_name": "Python 3",
   "language": "python",
   "name": "python3"
  },
  "language_info": {
   "codemirror_mode": {
    "name": "ipython",
    "version": 2
   },
   "file_extension": ".py",
   "mimetype": "text/x-python",
   "name": "python",
   "nbconvert_exporter": "python",
   "pygments_lexer": "ipython2",
   "version": "2.7.6"
  }
 },
 "nbformat": 4,
 "nbformat_minor": 5
}
