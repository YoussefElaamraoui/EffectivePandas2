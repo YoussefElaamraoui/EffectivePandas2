{
 "cells": [
  {
   "cell_type": "code",
   "id": "initial_id",
   "metadata": {
    "collapsed": true,
    "ExecuteTime": {
     "end_time": "2025-01-24T15:48:21.698588Z",
     "start_time": "2025-01-24T15:48:21.680468Z"
    }
   },
   "source": [
    "import numpy as np\n",
    "import pandas as pd\n"
   ],
   "outputs": [],
   "execution_count": 6
  },
  {
   "metadata": {},
   "cell_type": "markdown",
   "source": "# 1 - Find the count of non missing values of a series",
   "id": "8ee03db8ce14528b"
  },
  {
   "metadata": {
    "ExecuteTime": {
     "end_time": "2025-01-24T15:54:15.070774Z",
     "start_time": "2025-01-24T15:54:15.043395Z"
    }
   },
   "cell_type": "code",
   "source": [
    "# Create a list of numbers from 0 to 99 and include NaN\n",
    "values = list(range(100)) + [np.nan]\n",
    "\n",
    "# Define probabilities: 100 values + 1 NaN\n",
    "probabilities = [0.008] * 100 + [0.20]  # 0.008 * 100 + 0.20 = 1.0\n",
    "\n",
    "# Create a Series with random numbers (0-99) and NaNs (~20% probability)\n",
    "num_series = pd.Series(np.random.choice(values, size=10, p=probabilities))\n",
    "\n",
    "print(num_series)"
   ],
   "id": "bb90ed7914f36b24",
   "outputs": [
    {
     "name": "stdout",
     "output_type": "stream",
     "text": [
      "0    63.0\n",
      "1    44.0\n",
      "2    54.0\n",
      "3    51.0\n",
      "4     NaN\n",
      "5     3.0\n",
      "6     NaN\n",
      "7    19.0\n",
      "8     NaN\n",
      "9     NaN\n",
      "dtype: float64\n"
     ]
    }
   ],
   "execution_count": 23
  },
  {
   "metadata": {
    "ExecuteTime": {
     "end_time": "2025-01-24T15:58:19.277003Z",
     "start_time": "2025-01-24T15:58:19.261551Z"
    }
   },
   "cell_type": "code",
   "source": "num_series.count()",
   "id": "7523c2ac7d0e934f",
   "outputs": [
    {
     "data": {
      "text/plain": [
       "6"
      ]
     },
     "execution_count": 36,
     "metadata": {},
     "output_type": "execute_result"
    }
   ],
   "execution_count": 36
  },
  {
   "metadata": {},
   "cell_type": "markdown",
   "source": "### supplementary exercise: counting nan values",
   "id": "c94b996dc12f1f54"
  },
  {
   "metadata": {
    "ExecuteTime": {
     "end_time": "2025-01-24T15:58:59.189121Z",
     "start_time": "2025-01-24T15:58:59.167671Z"
    }
   },
   "cell_type": "code",
   "source": "num_series.isna()",
   "id": "d231c95aa490529e",
   "outputs": [
    {
     "data": {
      "text/plain": [
       "0    False\n",
       "1    False\n",
       "2    False\n",
       "3    False\n",
       "4     True\n",
       "5    False\n",
       "6     True\n",
       "7    False\n",
       "8     True\n",
       "9     True\n",
       "dtype: bool"
      ]
     },
     "execution_count": 38,
     "metadata": {},
     "output_type": "execute_result"
    }
   ],
   "execution_count": 38
  },
  {
   "metadata": {
    "ExecuteTime": {
     "end_time": "2025-01-24T15:58:59.776142Z",
     "start_time": "2025-01-24T15:58:59.770683Z"
    }
   },
   "cell_type": "code",
   "source": "print('number of missing values',num_series.isna().sum())",
   "id": "4a3add39653527dc",
   "outputs": [
    {
     "name": "stdout",
     "output_type": "stream",
     "text": [
      "number of missing values 4\n"
     ]
    }
   ],
   "execution_count": 39
  },
  {
   "metadata": {},
   "cell_type": "markdown",
   "source": "# 3 - Find the number of unique entries of a series",
   "id": "9e372b2e6f290ffb"
  },
  {
   "metadata": {
    "ExecuteTime": {
     "end_time": "2025-01-24T16:38:04.916186Z",
     "start_time": "2025-01-24T16:38:04.903364Z"
    }
   },
   "cell_type": "code",
   "source": [
    "#i use the len function because the unique() will return an array\n",
    "len(num_series.unique())"
   ],
   "id": "567ac8a21d584b3e",
   "outputs": [
    {
     "data": {
      "text/plain": [
       "7"
      ]
     },
     "execution_count": 43,
     "metadata": {},
     "output_type": "execute_result"
    }
   ],
   "execution_count": 43
  },
  {
   "metadata": {},
   "cell_type": "markdown",
   "source": "# 4 - Find the mean value of a series  ",
   "id": "758e5c7c0d334e2e"
  },
  {
   "metadata": {
    "ExecuteTime": {
     "end_time": "2025-01-24T16:39:11.318417Z",
     "start_time": "2025-01-24T16:39:11.276928Z"
    }
   },
   "cell_type": "code",
   "source": "num_series.mean()",
   "id": "c2437cff2d3e6817",
   "outputs": [
    {
     "data": {
      "text/plain": [
       "39.0"
      ]
     },
     "execution_count": 44,
     "metadata": {},
     "output_type": "execute_result"
    }
   ],
   "execution_count": 44
  },
  {
   "metadata": {},
   "cell_type": "markdown",
   "source": "# 5 - Find the max value of a series",
   "id": "c80877c2d8f7b33b"
  },
  {
   "metadata": {
    "ExecuteTime": {
     "end_time": "2025-01-24T16:39:45.459036Z",
     "start_time": "2025-01-24T16:39:45.427657Z"
    }
   },
   "cell_type": "code",
   "source": "num_series.max()",
   "id": "614d96adfe7bc2a3",
   "outputs": [
    {
     "data": {
      "text/plain": [
       "63.0"
      ]
     },
     "execution_count": 45,
     "metadata": {},
     "output_type": "execute_result"
    }
   ],
   "execution_count": 45
  },
  {
   "metadata": {},
   "cell_type": "markdown",
   "source": "# 6 - Use the .agg method to find all of the above",
   "id": "5c156fe91d2c6c18"
  },
  {
   "metadata": {
    "ExecuteTime": {
     "end_time": "2025-01-24T16:41:27.759675Z",
     "start_time": "2025-01-24T16:41:27.743652Z"
    }
   },
   "cell_type": "code",
   "source": "num_series.agg(['mean','max','unique','count'])",
   "id": "4a164abae7d20db7",
   "outputs": [
    {
     "data": {
      "text/plain": [
       "mean                                          39.0\n",
       "max                                           63.0\n",
       "unique    [63.0, 44.0, 54.0, 51.0, nan, 3.0, 19.0]\n",
       "count                                            6\n",
       "dtype: object"
      ]
     },
     "execution_count": 49,
     "metadata": {},
     "output_type": "execute_result"
    }
   ],
   "execution_count": 49
  }
 ],
 "metadata": {
  "kernelspec": {
   "display_name": "Python 3",
   "language": "python",
   "name": "python3"
  },
  "language_info": {
   "codemirror_mode": {
    "name": "ipython",
    "version": 2
   },
   "file_extension": ".py",
   "mimetype": "text/x-python",
   "name": "python",
   "nbconvert_exporter": "python",
   "pygments_lexer": "ipython2",
   "version": "2.7.6"
  }
 },
 "nbformat": 4,
 "nbformat_minor": 5
}
