{
 "cells": [
  {
   "cell_type": "code",
   "id": "initial_id",
   "metadata": {
    "collapsed": true,
    "ExecuteTime": {
     "end_time": "2025-01-28T19:06:03.147020Z",
     "start_time": "2025-01-28T19:06:00.639354Z"
    }
   },
   "source": [
    "import pandas as pd \n",
    "import numpy as np"
   ],
   "outputs": [],
   "execution_count": 1
  },
  {
   "cell_type": "markdown",
   "id": "8b5c5a2a",
   "metadata": {},
   "source": [
    "# 1 - Inspect the index"
   ]
  },
  {
   "cell_type": "code",
   "execution_count": 4,
   "id": "02b14070",
   "metadata": {},
   "outputs": [],
   "source": [
    "column_series = pd.Series(np.random.randint(0,100,100))"
   ]
  },
  {
   "cell_type": "code",
   "execution_count": 5,
   "id": "53c55926",
   "metadata": {},
   "outputs": [
    {
     "data": {
      "text/plain": [
       "0     23\n",
       "1      0\n",
       "2     30\n",
       "3     84\n",
       "4     41\n",
       "      ..\n",
       "95    15\n",
       "96    63\n",
       "97     5\n",
       "98    52\n",
       "99    15\n",
       "Length: 100, dtype: int64"
      ]
     },
     "execution_count": 5,
     "metadata": {},
     "output_type": "execute_result"
    }
   ],
   "source": [
    "column_series"
   ]
  },
  {
   "cell_type": "code",
   "execution_count": 6,
   "id": "47eaac0c",
   "metadata": {},
   "outputs": [
    {
     "data": {
      "text/plain": [
       "RangeIndex(start=0, stop=100, step=1)"
      ]
     },
     "execution_count": 6,
     "metadata": {},
     "output_type": "execute_result"
    }
   ],
   "source": [
    "column_series.index"
   ]
  },
  {
   "cell_type": "code",
   "id": "7c4b6735",
   "metadata": {
    "collapsed": true,
    "ExecuteTime": {
     "end_time": "2025-01-27T21:52:46.550594Z",
     "start_time": "2025-01-27T21:52:46.505081Z"
    }
   },
   "source": "",
   "outputs": [
    {
     "ename": "SyntaxError",
     "evalue": "positional argument follows keyword argument (2858479755.py, line 1)",
     "output_type": "error",
     "traceback": [
      "\u001B[0;36m  Input \u001B[0;32mIn [10]\u001B[0;36m\u001B[0m\n\u001B[0;31m    column_series.rename(index=0,'first')\u001B[0m\n\u001B[0m                                        ^\u001B[0m\n\u001B[0;31mSyntaxError\u001B[0m\u001B[0;31m:\u001B[0m positional argument follows keyword argument\n"
     ]
    }
   ],
   "execution_count": 10
  },
  {
   "cell_type": "markdown",
   "id": "16e4d371",
   "metadata": {},
   "source": [
    "# 2 - Sort the index"
   ]
  },
  {
   "cell_type": "code",
   "execution_count": null,
   "id": "18b71d37",
   "metadata": {},
   "outputs": [],
   "source": []
  },
  {
   "cell_type": "code",
   "execution_count": null,
   "id": "878d39d5",
   "metadata": {},
   "outputs": [],
   "source": []
  }
 ],
 "metadata": {
  "kernelspec": {
   "display_name": "Python 3 (ipykernel)",
   "language": "python",
   "name": "python3"
  },
  "language_info": {
   "codemirror_mode": {
    "name": "ipython",
    "version": 3
   },
   "file_extension": ".py",
   "mimetype": "text/x-python",
   "name": "python",
   "nbconvert_exporter": "python",
   "pygments_lexer": "ipython3",
   "version": "3.9.19"
  }
 },
 "nbformat": 4,
 "nbformat_minor": 5
}
