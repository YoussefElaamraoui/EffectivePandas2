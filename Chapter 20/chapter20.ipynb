{
 "cells": [
  {
   "metadata": {},
   "cell_type": "markdown",
   "source": "## 1 - Create a Dataframe from the data and add it to itself",
   "id": "fabb20f107d12550"
  },
  {
   "metadata": {
    "ExecuteTime": {
     "end_time": "2025-02-26T14:54:10.499319Z",
     "start_time": "2025-02-26T14:54:10.494439Z"
    }
   },
   "cell_type": "code",
   "source": [
    "import pandas as pd\n",
    "import numpy as np"
   ],
   "id": "2b821a7d60cbcdf",
   "outputs": [],
   "execution_count": 17
  },
  {
   "metadata": {
    "ExecuteTime": {
     "end_time": "2025-02-26T14:54:10.710779Z",
     "start_time": "2025-02-26T14:54:10.706458Z"
    }
   },
   "cell_type": "code",
   "source": [
    "data = {\n",
    "    'Name': ['Alice', 'Bob', 'Charlie', 'David'],\n",
    "    'Age': [25, 30, 35, 40],\n",
    "    'City': ['New York', 'Los Angeles', 'Chicago', 'Houston']\n",
    "}"
   ],
   "id": "858d34ed16e78272",
   "outputs": [],
   "execution_count": 18
  },
  {
   "metadata": {
    "ExecuteTime": {
     "end_time": "2025-02-26T14:54:11.007270Z",
     "start_time": "2025-02-26T14:54:10.995731Z"
    }
   },
   "cell_type": "code",
   "source": "df = pd.DataFrame(data)",
   "id": "5da3e21e769b4d6e",
   "outputs": [],
   "execution_count": 19
  },
  {
   "metadata": {
    "ExecuteTime": {
     "end_time": "2025-02-26T14:54:11.297043Z",
     "start_time": "2025-02-26T14:54:11.291362Z"
    }
   },
   "cell_type": "code",
   "source": "df",
   "id": "9236b4225b046a50",
   "outputs": [
    {
     "data": {
      "text/plain": [
       "      Name  Age         City\n",
       "0    Alice   25     New York\n",
       "1      Bob   30  Los Angeles\n",
       "2  Charlie   35      Chicago\n",
       "3    David   40      Houston"
      ],
      "text/html": [
       "<div>\n",
       "<style scoped>\n",
       "    .dataframe tbody tr th:only-of-type {\n",
       "        vertical-align: middle;\n",
       "    }\n",
       "\n",
       "    .dataframe tbody tr th {\n",
       "        vertical-align: top;\n",
       "    }\n",
       "\n",
       "    .dataframe thead th {\n",
       "        text-align: right;\n",
       "    }\n",
       "</style>\n",
       "<table border=\"1\" class=\"dataframe\">\n",
       "  <thead>\n",
       "    <tr style=\"text-align: right;\">\n",
       "      <th></th>\n",
       "      <th>Name</th>\n",
       "      <th>Age</th>\n",
       "      <th>City</th>\n",
       "    </tr>\n",
       "  </thead>\n",
       "  <tbody>\n",
       "    <tr>\n",
       "      <th>0</th>\n",
       "      <td>Alice</td>\n",
       "      <td>25</td>\n",
       "      <td>New York</td>\n",
       "    </tr>\n",
       "    <tr>\n",
       "      <th>1</th>\n",
       "      <td>Bob</td>\n",
       "      <td>30</td>\n",
       "      <td>Los Angeles</td>\n",
       "    </tr>\n",
       "    <tr>\n",
       "      <th>2</th>\n",
       "      <td>Charlie</td>\n",
       "      <td>35</td>\n",
       "      <td>Chicago</td>\n",
       "    </tr>\n",
       "    <tr>\n",
       "      <th>3</th>\n",
       "      <td>David</td>\n",
       "      <td>40</td>\n",
       "      <td>Houston</td>\n",
       "    </tr>\n",
       "  </tbody>\n",
       "</table>\n",
       "</div>"
      ]
     },
     "execution_count": 20,
     "metadata": {},
     "output_type": "execute_result"
    }
   ],
   "execution_count": 20
  },
  {
   "metadata": {
    "ExecuteTime": {
     "end_time": "2025-02-26T14:54:11.694935Z",
     "start_time": "2025-02-26T14:54:11.692240Z"
    }
   },
   "cell_type": "code",
   "source": "df_sum = df +df",
   "id": "18236f76dedd3a2e",
   "outputs": [],
   "execution_count": 21
  },
  {
   "metadata": {
    "ExecuteTime": {
     "end_time": "2025-02-26T14:54:12.253079Z",
     "start_time": "2025-02-26T14:54:12.248085Z"
    }
   },
   "cell_type": "code",
   "source": "df_sum",
   "id": "bdd43d39658a8287",
   "outputs": [
    {
     "data": {
      "text/plain": [
       "             Name  Age                    City\n",
       "0      AliceAlice   50        New YorkNew York\n",
       "1          BobBob   60  Los AngelesLos Angeles\n",
       "2  CharlieCharlie   70          ChicagoChicago\n",
       "3      DavidDavid   80          HoustonHouston"
      ],
      "text/html": [
       "<div>\n",
       "<style scoped>\n",
       "    .dataframe tbody tr th:only-of-type {\n",
       "        vertical-align: middle;\n",
       "    }\n",
       "\n",
       "    .dataframe tbody tr th {\n",
       "        vertical-align: top;\n",
       "    }\n",
       "\n",
       "    .dataframe thead th {\n",
       "        text-align: right;\n",
       "    }\n",
       "</style>\n",
       "<table border=\"1\" class=\"dataframe\">\n",
       "  <thead>\n",
       "    <tr style=\"text-align: right;\">\n",
       "      <th></th>\n",
       "      <th>Name</th>\n",
       "      <th>Age</th>\n",
       "      <th>City</th>\n",
       "    </tr>\n",
       "  </thead>\n",
       "  <tbody>\n",
       "    <tr>\n",
       "      <th>0</th>\n",
       "      <td>AliceAlice</td>\n",
       "      <td>50</td>\n",
       "      <td>New YorkNew York</td>\n",
       "    </tr>\n",
       "    <tr>\n",
       "      <th>1</th>\n",
       "      <td>BobBob</td>\n",
       "      <td>60</td>\n",
       "      <td>Los AngelesLos Angeles</td>\n",
       "    </tr>\n",
       "    <tr>\n",
       "      <th>2</th>\n",
       "      <td>CharlieCharlie</td>\n",
       "      <td>70</td>\n",
       "      <td>ChicagoChicago</td>\n",
       "    </tr>\n",
       "    <tr>\n",
       "      <th>3</th>\n",
       "      <td>DavidDavid</td>\n",
       "      <td>80</td>\n",
       "      <td>HoustonHouston</td>\n",
       "    </tr>\n",
       "  </tbody>\n",
       "</table>\n",
       "</div>"
      ]
     },
     "execution_count": 22,
     "metadata": {},
     "output_type": "execute_result"
    }
   ],
   "execution_count": 22
  },
  {
   "metadata": {},
   "cell_type": "markdown",
   "source": "## 2 - Create a dataframe from the data and multiply it by two",
   "id": "ccba2734c906b3cd"
  },
  {
   "metadata": {
    "ExecuteTime": {
     "end_time": "2025-02-26T14:54:34.969785Z",
     "start_time": "2025-02-26T14:54:34.957805Z"
    }
   },
   "cell_type": "code",
   "source": "df_multy = df*2 ",
   "id": "2f5873e1bb05d0dd",
   "outputs": [],
   "execution_count": 23
  },
  {
   "metadata": {
    "ExecuteTime": {
     "end_time": "2025-02-26T14:54:38.292537Z",
     "start_time": "2025-02-26T14:54:38.251293Z"
    }
   },
   "cell_type": "code",
   "source": "df_multy",
   "id": "5577d0555f5a0c8e",
   "outputs": [
    {
     "data": {
      "text/plain": [
       "             Name  Age                    City\n",
       "0      AliceAlice   50        New YorkNew York\n",
       "1          BobBob   60  Los AngelesLos Angeles\n",
       "2  CharlieCharlie   70          ChicagoChicago\n",
       "3      DavidDavid   80          HoustonHouston"
      ],
      "text/html": [
       "<div>\n",
       "<style scoped>\n",
       "    .dataframe tbody tr th:only-of-type {\n",
       "        vertical-align: middle;\n",
       "    }\n",
       "\n",
       "    .dataframe tbody tr th {\n",
       "        vertical-align: top;\n",
       "    }\n",
       "\n",
       "    .dataframe thead th {\n",
       "        text-align: right;\n",
       "    }\n",
       "</style>\n",
       "<table border=\"1\" class=\"dataframe\">\n",
       "  <thead>\n",
       "    <tr style=\"text-align: right;\">\n",
       "      <th></th>\n",
       "      <th>Name</th>\n",
       "      <th>Age</th>\n",
       "      <th>City</th>\n",
       "    </tr>\n",
       "  </thead>\n",
       "  <tbody>\n",
       "    <tr>\n",
       "      <th>0</th>\n",
       "      <td>AliceAlice</td>\n",
       "      <td>50</td>\n",
       "      <td>New YorkNew York</td>\n",
       "    </tr>\n",
       "    <tr>\n",
       "      <th>1</th>\n",
       "      <td>BobBob</td>\n",
       "      <td>60</td>\n",
       "      <td>Los AngelesLos Angeles</td>\n",
       "    </tr>\n",
       "    <tr>\n",
       "      <th>2</th>\n",
       "      <td>CharlieCharlie</td>\n",
       "      <td>70</td>\n",
       "      <td>ChicagoChicago</td>\n",
       "    </tr>\n",
       "    <tr>\n",
       "      <th>3</th>\n",
       "      <td>DavidDavid</td>\n",
       "      <td>80</td>\n",
       "      <td>HoustonHouston</td>\n",
       "    </tr>\n",
       "  </tbody>\n",
       "</table>\n",
       "</div>"
      ]
     },
     "execution_count": 24,
     "metadata": {},
     "output_type": "execute_result"
    }
   ],
   "execution_count": 24
  },
  {
   "metadata": {},
   "cell_type": "markdown",
   "source": "## 3 - Are the results from the previous exercises equivalent?",
   "id": "b2ca4be3ac3e6f06"
  },
  {
   "metadata": {},
   "cell_type": "code",
   "outputs": [],
   "execution_count": null,
   "source": "# Yes they are equivalent, we are just doubling the values in both operation, in the second case its more explicit, the first one can be confusing ",
   "id": "7410c2f44bfb3171"
  }
 ],
 "metadata": {
  "kernelspec": {
   "display_name": "Python 3",
   "language": "python",
   "name": "python3"
  },
  "language_info": {
   "codemirror_mode": {
    "name": "ipython",
    "version": 2
   },
   "file_extension": ".py",
   "mimetype": "text/x-python",
   "name": "python",
   "nbconvert_exporter": "python",
   "pygments_lexer": "ipython2",
   "version": "2.7.6"
  }
 },
 "nbformat": 4,
 "nbformat_minor": 5
}
