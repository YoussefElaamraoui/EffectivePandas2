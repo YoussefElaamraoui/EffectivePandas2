{
 "cells": [
  {
   "metadata": {},
   "cell_type": "markdown",
   "source": [
    "# Exercises\n",
    "1. Convert a numeric column toa smaller type"
   ],
   "id": "792dc56b18c64f7f"
  },
  {
   "cell_type": "code",
   "id": "initial_id",
   "metadata": {
    "collapsed": true,
    "ExecuteTime": {
     "end_time": "2025-01-24T15:35:21.296855Z",
     "start_time": "2025-01-24T15:35:19.929620Z"
    }
   },
   "source": [
    "import numpy as np\n",
    "import pandas as pd "
   ],
   "outputs": [],
   "execution_count": 1
  },
  {
   "metadata": {
    "ExecuteTime": {
     "end_time": "2025-01-24T15:35:21.304701Z",
     "start_time": "2025-01-24T15:35:21.300069Z"
    }
   },
   "cell_type": "code",
   "source": "column = pd.Series(np.random.rand(20))",
   "id": "9d3509588223e22d",
   "outputs": [],
   "execution_count": 2
  },
  {
   "metadata": {
    "ExecuteTime": {
     "end_time": "2025-01-24T15:35:21.327598Z",
     "start_time": "2025-01-24T15:35:21.306740Z"
    }
   },
   "cell_type": "code",
   "source": "column",
   "id": "a1816bc11f3f3b69",
   "outputs": [
    {
     "data": {
      "text/plain": [
       "0     0.116017\n",
       "1     0.569767\n",
       "2     0.922822\n",
       "3     0.939026\n",
       "4     0.293269\n",
       "5     0.714425\n",
       "6     0.228645\n",
       "7     0.309567\n",
       "8     0.747085\n",
       "9     0.233768\n",
       "10    0.823450\n",
       "11    0.683840\n",
       "12    0.136627\n",
       "13    0.638841\n",
       "14    0.555969\n",
       "15    0.543289\n",
       "16    0.289277\n",
       "17    0.689008\n",
       "18    0.206098\n",
       "19    0.437939\n",
       "dtype: float64"
      ]
     },
     "execution_count": 3,
     "metadata": {},
     "output_type": "execute_result"
    }
   ],
   "execution_count": 3
  },
  {
   "metadata": {},
   "cell_type": "markdown",
   "source": "## 1 - Convert a numeric column to a smaller type.\n",
   "id": "969419e210c55036"
  },
  {
   "metadata": {
    "ExecuteTime": {
     "end_time": "2025-01-24T15:35:21.336592Z",
     "start_time": "2025-01-24T15:35:21.329979Z"
    }
   },
   "cell_type": "code",
   "source": [
    "#This tells us what are the limits of a data type in numpy\n",
    "np.iinfo('uint8')"
   ],
   "id": "2770ffba8268af8b",
   "outputs": [
    {
     "data": {
      "text/plain": [
       "iinfo(min=0, max=255, dtype=uint8)"
      ]
     },
     "execution_count": 4,
     "metadata": {},
     "output_type": "execute_result"
    }
   ],
   "execution_count": 4
  },
  {
   "metadata": {
    "ExecuteTime": {
     "end_time": "2025-01-24T15:35:21.347988Z",
     "start_time": "2025-01-24T15:35:21.340299Z"
    }
   },
   "cell_type": "code",
   "source": "column.nbytes",
   "id": "a21265e97e32f260",
   "outputs": [
    {
     "data": {
      "text/plain": [
       "160"
      ]
     },
     "execution_count": 5,
     "metadata": {},
     "output_type": "execute_result"
    }
   ],
   "execution_count": 5
  },
  {
   "metadata": {
    "ExecuteTime": {
     "end_time": "2025-01-24T15:35:21.356667Z",
     "start_time": "2025-01-24T15:35:21.350160Z"
    }
   },
   "cell_type": "code",
   "source": "column.astype('int16').nbytes",
   "id": "c13b87816e350f5f",
   "outputs": [
    {
     "data": {
      "text/plain": [
       "40"
      ]
     },
     "execution_count": 6,
     "metadata": {},
     "output_type": "execute_result"
    }
   ],
   "execution_count": 6
  },
  {
   "metadata": {
    "ExecuteTime": {
     "end_time": "2025-01-24T15:35:21.366515Z",
     "start_time": "2025-01-24T15:35:21.359488Z"
    }
   },
   "cell_type": "code",
   "source": "column.astype('int8').nbytes",
   "id": "ccdbd3dc5947db66",
   "outputs": [
    {
     "data": {
      "text/plain": [
       "20"
      ]
     },
     "execution_count": 7,
     "metadata": {},
     "output_type": "execute_result"
    }
   ],
   "execution_count": 7
  },
  {
   "metadata": {
    "ExecuteTime": {
     "end_time": "2025-01-24T15:35:21.375810Z",
     "start_time": "2025-01-24T15:35:21.368490Z"
    }
   },
   "cell_type": "code",
   "source": [
    "column_saving = column.astype('int8')\n",
    "column_saving.nbytes"
   ],
   "id": "801ffcbcc2e41dd0",
   "outputs": [
    {
     "data": {
      "text/plain": [
       "20"
      ]
     },
     "execution_count": 8,
     "metadata": {},
     "output_type": "execute_result"
    }
   ],
   "execution_count": 8
  },
  {
   "metadata": {},
   "cell_type": "markdown",
   "source": "## 2 - Calcuate the memory savings by converting to smaller numeric types ",
   "id": "3fcc248114d8501a"
  },
  {
   "metadata": {
    "ExecuteTime": {
     "end_time": "2025-01-24T15:35:57.088641Z",
     "start_time": "2025-01-24T15:35:57.077899Z"
    }
   },
   "cell_type": "code",
   "source": "print(column.nbytes - column_saving.nbytes)",
   "id": "e991ec2e62b2b7bd",
   "outputs": [
    {
     "name": "stdout",
     "output_type": "stream",
     "text": [
      "140\n"
     ]
    }
   ],
   "execution_count": 10
  },
  {
   "metadata": {},
   "cell_type": "markdown",
   "source": "## 3 - What is the proper type to cast into String types?",
   "id": "258ce974f607b168"
  },
  {
   "metadata": {},
   "cell_type": "markdown",
   "source": "When i have unique values use the str, so astype(str), otherwise it's preferable to use the category type so, using astype('category')",
   "id": "90e8d66f6322ec82"
  },
  {
   "metadata": {},
   "cell_type": "markdown",
   "source": "## 4 - Convert a string column into a categorical type  & 5-Calculate the memory savings (or losses) by converting to a categorical type",
   "id": "fde4a2464e78b9c2"
  },
  {
   "metadata": {
    "ExecuteTime": {
     "end_time": "2025-01-24T15:43:26.384561Z",
     "start_time": "2025-01-24T15:43:26.332065Z"
    }
   },
   "cell_type": "code",
   "source": [
    "# Populate with random words\n",
    "\n",
    "# Define a list of random words\n",
    "words = [\"apple\", \"banana\", \"cherry\", \"date\", \"grape\", \"kiwi\"]\n",
    "\n",
    "# Create a Series with 10 random words\n",
    "str_column = pd.Series(np.random.choice(words, size=10))\n",
    "\n",
    "\n",
    "print(str_column)"
   ],
   "id": "7b7d7484b85d79da",
   "outputs": [
    {
     "name": "stdout",
     "output_type": "stream",
     "text": [
      "0      date\n",
      "1    cherry\n",
      "2     grape\n",
      "3      kiwi\n",
      "4     grape\n",
      "5      date\n",
      "6     grape\n",
      "7     grape\n",
      "8      kiwi\n",
      "9     grape\n",
      "dtype: object\n"
     ]
    }
   ],
   "execution_count": 21
  },
  {
   "metadata": {
    "ExecuteTime": {
     "end_time": "2025-01-24T15:41:26.303183Z",
     "start_time": "2025-01-24T15:41:26.285101Z"
    }
   },
   "cell_type": "code",
   "source": "str_column.nbytes",
   "id": "7bb5dd45ba09164e",
   "outputs": [
    {
     "data": {
      "text/plain": [
       "80"
      ]
     },
     "execution_count": 16,
     "metadata": {},
     "output_type": "execute_result"
    }
   ],
   "execution_count": 16
  },
  {
   "metadata": {
    "ExecuteTime": {
     "end_time": "2025-01-24T15:41:27.932192Z",
     "start_time": "2025-01-24T15:41:27.895555Z"
    }
   },
   "cell_type": "code",
   "source": "str_column.astype('category').nbytes",
   "id": "da19badf8894e672",
   "outputs": [
    {
     "data": {
      "text/plain": [
       "50"
      ]
     },
     "execution_count": 17,
     "metadata": {},
     "output_type": "execute_result"
    }
   ],
   "execution_count": 17
  },
  {
   "metadata": {
    "ExecuteTime": {
     "end_time": "2025-01-24T15:41:48.222009Z",
     "start_time": "2025-01-24T15:41:48.155540Z"
    }
   },
   "cell_type": "code",
   "source": "str_column_savings = str_column.astype('category') ",
   "id": "da02341357fea7e3",
   "outputs": [],
   "execution_count": 18
  },
  {
   "metadata": {
    "ExecuteTime": {
     "end_time": "2025-01-24T15:42:23.337627Z",
     "start_time": "2025-01-24T15:42:23.327155Z"
    }
   },
   "cell_type": "code",
   "source": "print(\"saved\", str_column.nbytes-str_column_savings.nbytes,\"bytes\")",
   "id": "372d0ec96a2960e1",
   "outputs": [
    {
     "name": "stdout",
     "output_type": "stream",
     "text": [
      "saved 30 bytes\n"
     ]
    }
   ],
   "execution_count": 20
  }
 ],
 "metadata": {
  "kernelspec": {
   "display_name": "Python 3",
   "language": "python",
   "name": "python3"
  },
  "language_info": {
   "codemirror_mode": {
    "name": "ipython",
    "version": 2
   },
   "file_extension": ".py",
   "mimetype": "text/x-python",
   "name": "python",
   "nbconvert_exporter": "python",
   "pygments_lexer": "ipython2",
   "version": "2.7.6"
  }
 },
 "nbformat": 4,
 "nbformat_minor": 5
}
