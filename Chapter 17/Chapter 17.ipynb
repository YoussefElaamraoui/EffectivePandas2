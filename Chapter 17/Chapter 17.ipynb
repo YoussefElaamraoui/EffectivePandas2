{
 "cells": [
  {
   "cell_type": "code",
   "id": "initial_id",
   "metadata": {
    "collapsed": true,
    "ExecuteTime": {
     "end_time": "2025-02-10T13:25:49.175012Z",
     "start_time": "2025-02-10T13:25:49.169020Z"
    }
   },
   "source": [
    "import pandas as pd \n",
    "import numpy as np"
   ],
   "execution_count": 31,
   "outputs": []
  },
  {
   "metadata": {},
   "cell_type": "markdown",
   "source": "# 1 - Convert a text column into categorical column. How much memory did you save?",
   "id": "1528747f89a68d95"
  },
  {
   "metadata": {
    "ExecuteTime": {
     "end_time": "2025-02-10T13:25:49.186143Z",
     "start_time": "2025-02-10T13:25:49.178426Z"
    }
   },
   "cell_type": "code",
   "source": "data = pd.Series(['apple', 'banana', 'apple', 'orange', 'banana', 'apple', 'orange', 'banana', 'apple'],dtype=str)",
   "id": "460d0e2f52ba90e2",
   "outputs": [],
   "execution_count": 32
  },
  {
   "metadata": {
    "ExecuteTime": {
     "end_time": "2025-02-10T13:25:49.206295Z",
     "start_time": "2025-02-10T13:25:49.195564Z"
    }
   },
   "cell_type": "code",
   "source": "data.value_counts()",
   "id": "245c15d5d0217853",
   "outputs": [
    {
     "data": {
      "text/plain": [
       "apple     4\n",
       "banana    3\n",
       "orange    2\n",
       "Name: count, dtype: int64"
      ]
     },
     "execution_count": 33,
     "metadata": {},
     "output_type": "execute_result"
    }
   ],
   "execution_count": 33
  },
  {
   "metadata": {
    "ExecuteTime": {
     "end_time": "2025-02-10T13:25:49.210674Z",
     "start_time": "2025-02-10T13:25:49.207475Z"
    }
   },
   "cell_type": "code",
   "source": "data.unique()",
   "id": "1afcee35a89c32ee",
   "outputs": [
    {
     "data": {
      "text/plain": [
       "array(['apple', 'banana', 'orange'], dtype=object)"
      ]
     },
     "execution_count": 34,
     "metadata": {},
     "output_type": "execute_result"
    }
   ],
   "execution_count": 34
  },
  {
   "metadata": {
    "ExecuteTime": {
     "end_time": "2025-02-10T13:25:49.214848Z",
     "start_time": "2025-02-10T13:25:49.211874Z"
    }
   },
   "cell_type": "code",
   "source": "cat_data = data.astype('category')",
   "id": "ab610db480d2ec81",
   "outputs": [],
   "execution_count": 35
  },
  {
   "metadata": {
    "ExecuteTime": {
     "end_time": "2025-02-10T13:25:49.218736Z",
     "start_time": "2025-02-10T13:25:49.215974Z"
    }
   },
   "cell_type": "code",
   "source": "cat_data.memory_usage(deep=True)",
   "id": "f5a900f5eec707b0",
   "outputs": [
    {
     "data": {
      "text/plain": [
       "433"
      ]
     },
     "execution_count": 36,
     "metadata": {},
     "output_type": "execute_result"
    }
   ],
   "execution_count": 36
  },
  {
   "metadata": {
    "ExecuteTime": {
     "end_time": "2025-02-10T13:25:49.221626Z",
     "start_time": "2025-02-10T13:25:49.219476Z"
    }
   },
   "cell_type": "code",
   "source": "data.memory_usage(deep=True)",
   "id": "f5e5b45c76ec6bfe",
   "outputs": [
    {
     "data": {
      "text/plain": [
       "691"
      ]
     },
     "execution_count": 37,
     "metadata": {},
     "output_type": "execute_result"
    }
   ],
   "execution_count": 37
  },
  {
   "metadata": {},
   "cell_type": "markdown",
   "source": "# 2 - Convert a numeric column into a categorical column by binning it (pd.cut). How much memory did you save?",
   "id": "b8c0147d29e2c7df"
  },
  {
   "metadata": {
    "ExecuteTime": {
     "end_time": "2025-02-10T13:32:54.981680Z",
     "start_time": "2025-02-10T13:32:54.957341Z"
    }
   },
   "cell_type": "code",
   "source": [
    "\n",
    "# Sample numeric data\n",
    "data_numeric = [5, 20, 15, 40, 30, 25, 50, 10, 35, 45]\n",
    "\n",
    "# Convert to pandas Series\n",
    "data_series = pd.Series(data_numeric)\n",
    "\n",
    "# Define labels for the bins\n",
    "names = ['Low', 'Medium', 'High']\n",
    "\n",
    "# Use pd.cut to bin the data into 3 categories with labels\n",
    "values = pd.cut(data_series, bins=3, labels=names)\n",
    "\n",
    "# Display the binned data\n",
    "print(values)"
   ],
   "id": "81131ec638fabcbf",
   "outputs": [
    {
     "name": "stdout",
     "output_type": "stream",
     "text": [
      "0       Low\n",
      "1       Low\n",
      "2       Low\n",
      "3      High\n",
      "4    Medium\n",
      "5    Medium\n",
      "6      High\n",
      "7       Low\n",
      "8    Medium\n",
      "9      High\n",
      "dtype: category\n",
      "Categories (3, object): ['Low' < 'Medium' < 'High']\n"
     ]
    }
   ],
   "execution_count": 44
  },
  {
   "metadata": {
    "ExecuteTime": {
     "end_time": "2025-02-10T13:32:59.374169Z",
     "start_time": "2025-02-10T13:32:59.368872Z"
    }
   },
   "cell_type": "code",
   "source": "values",
   "id": "8e07c54339eb0713",
   "outputs": [
    {
     "data": {
      "text/plain": [
       "0       Low\n",
       "1       Low\n",
       "2       Low\n",
       "3      High\n",
       "4    Medium\n",
       "5    Medium\n",
       "6      High\n",
       "7       Low\n",
       "8    Medium\n",
       "9      High\n",
       "dtype: category\n",
       "Categories (3, object): ['Low' < 'Medium' < 'High']"
      ]
     },
     "execution_count": 45,
     "metadata": {},
     "output_type": "execute_result"
    }
   ],
   "execution_count": 45
  },
  {
   "metadata": {},
   "cell_type": "markdown",
   "source": "# 3 - use the generalize_topn function to limit the amounts of categories in your column. How much memory did you save?",
   "id": "9119c11095f5ca13"
  },
  {
   "metadata": {
    "ExecuteTime": {
     "end_time": "2025-02-10T13:34:21.206648Z",
     "start_time": "2025-02-10T13:34:21.193909Z"
    }
   },
   "cell_type": "code",
   "source": [
    "# Function to generalize top n categories\n",
    "def generalize_topn(ser, n=5, other='Other'):\n",
    "    # Get the top n frequent categories\n",
    "    topn = ser.value_counts().index[:n]\n",
    "    \n",
    "    # If the series is categorical, modify the categories\n",
    "    if isinstance(ser.dtype, pd.CategoricalDtype):\n",
    "        ser = ser.cat.set_categories(list(topn) + [other])\n",
    "    \n",
    "    # Replace values not in the top n categories with 'other'\n",
    "    return ser.where(ser.isin(topn), other)\n",
    "\t\n",
    "\t\n",
    "result = data.pipe(generalize_topn, n=3, other='NA')"
   ],
   "id": "78ca75f466e09",
   "outputs": [],
   "execution_count": 50
  },
  {
   "metadata": {
    "ExecuteTime": {
     "end_time": "2025-02-10T13:34:21.629899Z",
     "start_time": "2025-02-10T13:34:21.624339Z"
    }
   },
   "cell_type": "code",
   "source": "result",
   "id": "285a01fb4a28b241",
   "outputs": [
    {
     "data": {
      "text/plain": [
       "0     apple\n",
       "1    banana\n",
       "2     apple\n",
       "3    orange\n",
       "4    banana\n",
       "5     apple\n",
       "6    orange\n",
       "7    banana\n",
       "8     apple\n",
       "dtype: object"
      ]
     },
     "execution_count": 51,
     "metadata": {},
     "output_type": "execute_result"
    }
   ],
   "execution_count": 51
  },
  {
   "metadata": {},
   "cell_type": "code",
   "outputs": [],
   "execution_count": null,
   "source": "",
   "id": "7541efe8a9e3eca2"
  }
 ],
 "metadata": {
  "kernelspec": {
   "display_name": "Python 3",
   "language": "python",
   "name": "python3"
  },
  "language_info": {
   "codemirror_mode": {
    "name": "ipython",
    "version": 2
   },
   "file_extension": ".py",
   "mimetype": "text/x-python",
   "name": "python",
   "nbconvert_exporter": "python",
   "pygments_lexer": "ipython2",
   "version": "2.7.6"
  }
 },
 "nbformat": 4,
 "nbformat_minor": 5
}
