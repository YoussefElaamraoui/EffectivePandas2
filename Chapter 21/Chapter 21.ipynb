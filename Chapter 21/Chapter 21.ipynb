{
 "cells": [
  {
   "cell_type": "code",
   "id": "initial_id",
   "metadata": {
    "collapsed": true,
    "ExecuteTime": {
     "end_time": "2025-02-26T15:04:44.639187Z",
     "start_time": "2025-02-26T15:04:44.631471Z"
    }
   },
   "source": [
    "import numpy as np\n",
    "import pandas as pd "
   ],
   "outputs": [],
   "execution_count": 3
  },
  {
   "metadata": {},
   "cell_type": "markdown",
   "source": "# 1 - Loop over each row and calculate, the maximum and the minimum values ",
   "id": "351b37ae65faf0aa"
  },
  {
   "metadata": {},
   "cell_type": "code",
   "outputs": [],
   "execution_count": null,
   "source": "",
   "id": "48580ffb30908d68"
  },
  {
   "metadata": {},
   "cell_type": "code",
   "outputs": [],
   "execution_count": null,
   "source": "",
   "id": "b02366f0222e7f02"
  },
  {
   "metadata": {},
   "cell_type": "code",
   "outputs": [],
   "execution_count": null,
   "source": "",
   "id": "56e1988d1db66e1c"
  },
  {
   "metadata": {},
   "cell_type": "markdown",
   "source": "# 2 - Calculate each row and column's maximum and minimum values using the .agg method.",
   "id": "1d62fd0e8f1ef455"
  },
  {
   "metadata": {
    "ExecuteTime": {
     "end_time": "2025-02-26T15:05:50.796350Z",
     "start_time": "2025-02-26T15:05:50.787789Z"
    }
   },
   "cell_type": "code",
   "source": "",
   "id": "75850830f043750d",
   "outputs": [],
   "execution_count": 3
  },
  {
   "metadata": {
    "ExecuteTime": {
     "end_time": "2025-02-26T15:05:50.924494Z",
     "start_time": "2025-02-26T15:05:50.923214Z"
    }
   },
   "cell_type": "code",
   "source": "",
   "id": "6bd484c57756eba5",
   "outputs": [],
   "execution_count": 3
  },
  {
   "metadata": {
    "ExecuteTime": {
     "end_time": "2025-02-26T15:05:51.033578Z",
     "start_time": "2025-02-26T15:05:51.032301Z"
    }
   },
   "cell_type": "code",
   "source": "",
   "id": "5ca54c56161645b6",
   "outputs": [],
   "execution_count": 3
  },
  {
   "metadata": {},
   "cell_type": "markdown",
   "source": "## 3 - Calculate each row and column's maximum and minimum value using the .apply method ",
   "id": "296238ce6f9f495f"
  },
  {
   "metadata": {},
   "cell_type": "code",
   "outputs": [],
   "execution_count": null,
   "source": "",
   "id": "2d02d291793688e1"
  }
 ],
 "metadata": {
  "kernelspec": {
   "display_name": "Python 3",
   "language": "python",
   "name": "python3"
  },
  "language_info": {
   "codemirror_mode": {
    "name": "ipython",
    "version": 2
   },
   "file_extension": ".py",
   "mimetype": "text/x-python",
   "name": "python",
   "nbconvert_exporter": "python",
   "pygments_lexer": "ipython2",
   "version": "2.7.6"
  }
 },
 "nbformat": 4,
 "nbformat_minor": 5
}
