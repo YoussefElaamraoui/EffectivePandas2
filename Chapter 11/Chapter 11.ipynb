{
 "cells": [
  {
   "cell_type": "code",
   "id": "initial_id",
   "metadata": {
    "collapsed": true,
    "ExecuteTime": {
     "end_time": "2025-01-26T21:42:01.467441Z",
     "start_time": "2025-01-26T21:41:58.840640Z"
    }
   },
   "source": [
    "import numpy as np\n",
    "import pandas as pd"
   ],
   "outputs": [],
   "execution_count": 2
  },
  {
   "cell_type": "markdown",
   "id": "2e61f844679800b9",
   "metadata": {},
   "source": [
    "## 1 - Create a seris from a numeric column that has the value of 'high' if it is equal to or above the mean and 'low' if it is below the mearn using .apply "
   ]
  },
  {
   "cell_type": "code",
   "id": "9259785647cb2f8e",
   "metadata": {
    "ExecuteTime": {
     "end_time": "2025-01-26T21:42:01.539338Z",
     "start_time": "2025-01-26T21:42:01.498254Z"
    }
   },
   "source": [
    "numeric_column = pd.Series(np.random.randint(0,100,100))"
   ],
   "outputs": [],
   "execution_count": 3
  },
  {
   "cell_type": "code",
   "id": "e408d66ef9a1bc63",
   "metadata": {
    "ExecuteTime": {
     "end_time": "2025-01-26T21:42:01.594866Z",
     "start_time": "2025-01-26T21:42:01.554677Z"
    }
   },
   "source": [
    "numeric_column"
   ],
   "outputs": [
    {
     "data": {
      "text/plain": [
       "0     94\n",
       "1      7\n",
       "2      5\n",
       "3     45\n",
       "4     96\n",
       "      ..\n",
       "95    69\n",
       "96    22\n",
       "97    50\n",
       "98    71\n",
       "99    93\n",
       "Length: 100, dtype: int64"
      ]
     },
     "execution_count": 4,
     "metadata": {},
     "output_type": "execute_result"
    }
   ],
   "execution_count": 4
  },
  {
   "cell_type": "code",
   "id": "2886c61c36902e7",
   "metadata": {
    "ExecuteTime": {
     "end_time": "2025-01-26T21:42:01.622140Z",
     "start_time": "2025-01-26T21:42:01.599411Z"
    }
   },
   "source": [
    "numeric_column.agg(['mean','count'])"
   ],
   "outputs": [
    {
     "data": {
      "text/plain": [
       "mean      45.87\n",
       "count    100.00\n",
       "dtype: float64"
      ]
     },
     "execution_count": 5,
     "metadata": {},
     "output_type": "execute_result"
    }
   ],
   "execution_count": 5
  },
  {
   "cell_type": "code",
   "id": "db23d6ecfb8babc9",
   "metadata": {
    "ExecuteTime": {
     "end_time": "2025-01-26T21:42:01.641199Z",
     "start_time": "2025-01-26T21:42:01.628029Z"
    }
   },
   "source": [
    "def high_low(val):\n",
    "    if val > numeric_column.mean():\n",
    "        return 'High'\n",
    "    else:\n",
    "        return 'Low'\n",
    "\n",
    "numeric_column.apply(high_low)\n"
   ],
   "outputs": [
    {
     "data": {
      "text/plain": [
       "0     High\n",
       "1      Low\n",
       "2      Low\n",
       "3      Low\n",
       "4     High\n",
       "      ... \n",
       "95    High\n",
       "96     Low\n",
       "97    High\n",
       "98    High\n",
       "99    High\n",
       "Length: 100, dtype: object"
      ]
     },
     "execution_count": 6,
     "metadata": {},
     "output_type": "execute_result"
    }
   ],
   "execution_count": 6
  },
  {
   "cell_type": "markdown",
   "id": "b3ad2dfbf4027d8d",
   "metadata": {},
   "source": [
    "# 2 - Same exercise but using .case when "
   ]
  },
  {
   "cell_type": "code",
   "id": "19d42c82ea382128",
   "metadata": {
    "ExecuteTime": {
     "end_time": "2025-01-26T21:42:01.660122Z",
     "start_time": "2025-01-26T21:42:01.643406Z"
    }
   },
   "source": [
    "numeric_column.case_when(caselist=[(numeric_column>numeric_column.mean(),'High'),\n",
    "                                   (numeric_column<numeric_column.mean(),'Low'),\n",
    "                                   (numeric_column==numeric_column.mean(),'Mean')])"
   ],
   "outputs": [
    {
     "data": {
      "text/plain": [
       "0     High\n",
       "1      Low\n",
       "2      Low\n",
       "3      Low\n",
       "4     High\n",
       "      ... \n",
       "95    High\n",
       "96     Low\n",
       "97    High\n",
       "98    High\n",
       "99    High\n",
       "Length: 100, dtype: object"
      ]
     },
     "execution_count": 7,
     "metadata": {},
     "output_type": "execute_result"
    }
   ],
   "execution_count": 7
  },
  {
   "cell_type": "markdown",
   "id": "2e1df454e8e61153",
   "metadata": {},
   "source": [
    "# 3 - Time the previous exercises to see which is faster"
   ]
  },
  {
   "cell_type": "code",
   "id": "a0bed9dbd01fb390",
   "metadata": {
    "ExecuteTime": {
     "end_time": "2025-01-26T21:42:05.883831Z",
     "start_time": "2025-01-26T21:42:01.664361Z"
    }
   },
   "source": [
    "%%timeit\n",
    "def high_low(val):\n",
    "    if val > numeric_column.mean():\n",
    "        return 'High'\n",
    "    else:\n",
    "        return 'Low'\n",
    "\n",
    "numeric_column.apply(high_low)"
   ],
   "outputs": [
    {
     "name": "stdout",
     "output_type": "stream",
     "text": [
      "5.26 ms ± 1.35 ms per loop (mean ± std. dev. of 7 runs, 100 loops each)\n"
     ]
    }
   ],
   "execution_count": 8
  },
  {
   "cell_type": "code",
   "id": "e28ce1e7631e4e9a",
   "metadata": {
    "ExecuteTime": {
     "end_time": "2025-01-26T21:42:07.940841Z",
     "start_time": "2025-01-26T21:42:05.896167Z"
    }
   },
   "source": [
    "%%timeit\n",
    "numeric_column.case_when(caselist=[(numeric_column>numeric_column.mean(),'High'),\n",
    "                                   (numeric_column<numeric_column.mean(),'Low'),\n",
    "                                   (numeric_column==numeric_column.mean(),'Mean')])"
   ],
   "outputs": [
    {
     "name": "stdout",
     "output_type": "stream",
     "text": [
      "2.27 ms ± 884 µs per loop (mean ± std. dev. of 7 runs, 100 loops each)\n"
     ]
    }
   ],
   "execution_count": 9
  },
  {
   "cell_type": "markdown",
   "id": "7a5c3dfd6ea9ced9",
   "metadata": {},
   "source": [
    "# 4- Replace the values of  a numeric series with the median value"
   ]
  },
  {
   "cell_type": "code",
   "id": "cdcbd8a3f181b138",
   "metadata": {
    "ExecuteTime": {
     "end_time": "2025-01-26T21:42:07.957597Z",
     "start_time": "2025-01-26T21:42:07.943836Z"
    }
   },
   "source": [
    "# Create a list of numbers from 0 to 99 and include NaN\n",
    "values = list(range(100)) + [np.nan]\n",
    "\n",
    "# Define probabilities: 100 values + 1 NaN\n",
    "probabilities = [0.008] * 100 + [0.20]  # 0.008 * 100 + 0.20 = 1.0\n",
    "\n",
    "# Create a Series with random numbers (0-99) and NaNs (~20% probability)\n",
    "num_series = pd.Series(np.random.choice(values, size=100, p=probabilities))\n",
    "\n",
    "print(num_series)"
   ],
   "outputs": [
    {
     "name": "stdout",
     "output_type": "stream",
     "text": [
      "0     25.0\n",
      "1     41.0\n",
      "2     14.0\n",
      "3      NaN\n",
      "4     71.0\n",
      "      ... \n",
      "95     NaN\n",
      "96    91.0\n",
      "97    78.0\n",
      "98     NaN\n",
      "99     3.0\n",
      "Length: 100, dtype: float64\n"
     ]
    }
   ],
   "execution_count": 10
  },
  {
   "cell_type": "code",
   "id": "515fbc642036d3cc",
   "metadata": {
    "ExecuteTime": {
     "end_time": "2025-01-26T21:42:07.974970Z",
     "start_time": "2025-01-26T21:42:07.964523Z"
    }
   },
   "source": [
    "num_series.median()"
   ],
   "outputs": [
    {
     "data": {
      "text/plain": [
       "49.5"
      ]
     },
     "execution_count": 11,
     "metadata": {},
     "output_type": "execute_result"
    }
   ],
   "execution_count": 11
  },
  {
   "cell_type": "code",
   "id": "d17a4867ae29559a",
   "metadata": {
    "ExecuteTime": {
     "end_time": "2025-01-26T21:42:07.985270Z",
     "start_time": "2025-01-26T21:42:07.977157Z"
    }
   },
   "source": [
    "num_series.fillna((num_series.median()))"
   ],
   "outputs": [
    {
     "data": {
      "text/plain": [
       "0     25.0\n",
       "1     41.0\n",
       "2     14.0\n",
       "3     49.5\n",
       "4     71.0\n",
       "      ... \n",
       "95    49.5\n",
       "96    91.0\n",
       "97    78.0\n",
       "98    49.5\n",
       "99     3.0\n",
       "Length: 100, dtype: float64"
      ]
     },
     "execution_count": 12,
     "metadata": {},
     "output_type": "execute_result"
    }
   ],
   "execution_count": 12
  },
  {
   "cell_type": "markdown",
   "id": "313319398ef6844c",
   "metadata": {},
   "source": [
    "# 5 - Clip the values of a numeric series between to 10th and 90th percentiles"
   ]
  },
  {
   "cell_type": "code",
   "id": "d46271d511655393",
   "metadata": {
    "ExecuteTime": {
     "end_time": "2025-01-26T21:42:07.999178Z",
     "start_time": "2025-01-26T21:42:07.987412Z"
    }
   },
   "source": [
    "clipped_values = numeric_column.clip(lower=numeric_column.quantile(0.1), upper=numeric_column.quantile(0.9))"
   ],
   "outputs": [],
   "execution_count": 13
  },
  {
   "cell_type": "code",
   "id": "6a5b78abc4d38c52",
   "metadata": {
    "ExecuteTime": {
     "end_time": "2025-01-26T21:42:08.008552Z",
     "start_time": "2025-01-26T21:42:08.001035Z"
    }
   },
   "source": [
    "clipped_values"
   ],
   "outputs": [
    {
     "data": {
      "text/plain": [
       "0     82.4\n",
       "1     10.8\n",
       "2     10.8\n",
       "3     45.0\n",
       "4     82.4\n",
       "      ... \n",
       "95    69.0\n",
       "96    22.0\n",
       "97    50.0\n",
       "98    71.0\n",
       "99    82.4\n",
       "Length: 100, dtype: float64"
      ]
     },
     "execution_count": 14,
     "metadata": {},
     "output_type": "execute_result"
    }
   ],
   "execution_count": 14
  },
  {
   "cell_type": "code",
   "id": "18767c1a6d0f20b5",
   "metadata": {
    "ExecuteTime": {
     "end_time": "2025-01-26T21:42:08.018761Z",
     "start_time": "2025-01-26T21:42:08.011543Z"
    }
   },
   "source": [
    "print(f\"Lower bound (10th percentile): {numeric_column.quantile(0.1)}\")\n",
    "print(f\"Upper bound (90th percentile): {numeric_column.quantile(0.9)}\")"
   ],
   "outputs": [
    {
     "name": "stdout",
     "output_type": "stream",
     "text": [
      "Lower bound (10th percentile): 10.8\n",
      "Upper bound (90th percentile): 82.40000000000003\n"
     ]
    }
   ],
   "execution_count": 15
  },
  {
   "cell_type": "markdown",
   "id": "2a5f5ec6930c90b9",
   "metadata": {},
   "source": [
    "# 6 & 7 - Using categorical column, replace any value that is not in the top 10 (and top 5 for the 6 exercise ) most frequent values with 'Other'"
   ]
  },
  {
   "cell_type": "code",
   "id": "3d24a8f8b1f2cae3",
   "metadata": {
    "ExecuteTime": {
     "end_time": "2025-01-26T21:42:08.031874Z",
     "start_time": "2025-01-26T21:42:08.021127Z"
    }
   },
   "source": [
    "top_10 = numeric_column.value_counts().index[:10]\n",
    "top_5 = numeric_column.value_counts().index[:5]"
   ],
   "outputs": [],
   "execution_count": 16
  },
  {
   "cell_type": "code",
   "id": "4c6cfd72b95177c6",
   "metadata": {
    "ExecuteTime": {
     "end_time": "2025-01-26T21:42:08.046899Z",
     "start_time": "2025-01-26T21:42:08.034244Z"
    }
   },
   "source": [
    "numeric_column.where(numeric_column.isin(top_10),other='Other')"
   ],
   "outputs": [
    {
     "data": {
      "text/plain": [
       "0        94\n",
       "1     Other\n",
       "2     Other\n",
       "3     Other\n",
       "4     Other\n",
       "      ...  \n",
       "95    Other\n",
       "96    Other\n",
       "97    Other\n",
       "98    Other\n",
       "99    Other\n",
       "Length: 100, dtype: object"
      ]
     },
     "execution_count": 17,
     "metadata": {},
     "output_type": "execute_result"
    }
   ],
   "execution_count": 17
  },
  {
   "cell_type": "code",
   "id": "a9d74a74d0e291cc",
   "metadata": {
    "ExecuteTime": {
     "end_time": "2025-01-26T21:42:08.057837Z",
     "start_time": "2025-01-26T21:42:08.049052Z"
    }
   },
   "source": [
    "numeric_column.where(numeric_column.isin(top_5),other='Other')"
   ],
   "outputs": [
    {
     "data": {
      "text/plain": [
       "0        94\n",
       "1     Other\n",
       "2     Other\n",
       "3     Other\n",
       "4     Other\n",
       "      ...  \n",
       "95    Other\n",
       "96    Other\n",
       "97    Other\n",
       "98    Other\n",
       "99    Other\n",
       "Length: 100, dtype: object"
      ]
     },
     "execution_count": 18,
     "metadata": {},
     "output_type": "execute_result"
    }
   ],
   "execution_count": 18
  },
  {
   "cell_type": "markdown",
   "id": "4bccf81c5ddf3e03",
   "metadata": {},
   "source": [
    "# 8 - Make a function that takes a categorical series and a number (n) and returns a replace seris that replaces any value not in the top n most frequent values with 'Other'"
   ]
  },
  {
   "cell_type": "code",
   "id": "2b05b998599baf07",
   "metadata": {
    "ExecuteTime": {
     "end_time": "2025-01-26T21:42:08.074011Z",
     "start_time": "2025-01-26T21:42:08.059487Z"
    }
   },
   "source": [
    "def change_not_topn(column,n):\n",
    "    top_n = column.value_counts().index[:n]\n",
    "    return column.where(column.isin(top_n),other='Other')\n"
   ],
   "outputs": [],
   "execution_count": 19
  },
  {
   "cell_type": "markdown",
   "id": "76cc83e6",
   "metadata": {},
   "source": [
    "# Using numeric column, bin it in 10 group with the same width"
   ]
  },
  {
   "cell_type": "code",
   "id": "8a7ea50f",
   "metadata": {
    "ExecuteTime": {
     "end_time": "2025-01-26T21:42:08.119213Z",
     "start_time": "2025-01-26T21:42:08.075746Z"
    }
   },
   "source": "pd.cut(numeric_column,10)",
   "outputs": [
    {
     "data": {
      "text/plain": [
       "0      (89.2, 99.0]\n",
       "1     (0.902, 10.8]\n",
       "2     (0.902, 10.8]\n",
       "3      (40.2, 50.0]\n",
       "4      (89.2, 99.0]\n",
       "          ...      \n",
       "95     (59.8, 69.6]\n",
       "96     (20.6, 30.4]\n",
       "97     (40.2, 50.0]\n",
       "98     (69.6, 79.4]\n",
       "99     (89.2, 99.0]\n",
       "Length: 100, dtype: category\n",
       "Categories (10, interval[float64, right]): [(0.902, 10.8] < (10.8, 20.6] < (20.6, 30.4] < (30.4, 40.2] ... (59.8, 69.6] < (69.6, 79.4] < (79.4, 89.2] < (89.2, 99.0]]"
      ]
     },
     "execution_count": 20,
     "metadata": {},
     "output_type": "execute_result"
    }
   ],
   "execution_count": 20
  },
  {
   "metadata": {},
   "cell_type": "markdown",
   "source": "# 10 - using numerical column, bin it in 10 group that have equal sized bins",
   "id": "1424d074caba8dbe"
  },
  {
   "metadata": {
    "ExecuteTime": {
     "end_time": "2025-01-26T21:43:39.494864Z",
     "start_time": "2025-01-26T21:43:39.259050Z"
    }
   },
   "cell_type": "code",
   "source": "binned_column = pd.qcut(numeric_column, q=10)",
   "id": "df76a86fbda69972",
   "outputs": [],
   "execution_count": 21
  },
  {
   "metadata": {
    "ExecuteTime": {
     "end_time": "2025-01-26T21:43:44.706444Z",
     "start_time": "2025-01-26T21:43:44.630053Z"
    }
   },
   "cell_type": "code",
   "source": "binned_column",
   "id": "6ff34bcf1f02c2e3",
   "outputs": [
    {
     "data": {
      "text/plain": [
       "0      (82.4, 99.0]\n",
       "1     (0.999, 10.8]\n",
       "2     (0.999, 10.8]\n",
       "3      (44.5, 53.4]\n",
       "4      (82.4, 99.0]\n",
       "          ...      \n",
       "95     (64.3, 74.4]\n",
       "96     (18.8, 25.4]\n",
       "97     (44.5, 53.4]\n",
       "98     (64.3, 74.4]\n",
       "99     (82.4, 99.0]\n",
       "Length: 100, dtype: category\n",
       "Categories (10, interval[float64, right]): [(0.999, 10.8] < (10.8, 18.8] < (18.8, 25.4] < (25.4, 33.0] ... (53.4, 64.3] < (64.3, 74.4] < (74.4, 82.4] < (82.4, 99.0]]"
      ]
     },
     "execution_count": 22,
     "metadata": {},
     "output_type": "execute_result"
    }
   ],
   "execution_count": 22
  },
  {
   "metadata": {},
   "cell_type": "code",
   "outputs": [],
   "execution_count": null,
   "source": "",
   "id": "8aa287111c8facf4"
  }
 ],
 "metadata": {
  "kernelspec": {
   "display_name": "Python 3 (ipykernel)",
   "language": "python",
   "name": "python3"
  },
  "language_info": {
   "codemirror_mode": {
    "name": "ipython",
    "version": 3
   },
   "file_extension": ".py",
   "mimetype": "text/x-python",
   "name": "python",
   "nbconvert_exporter": "python",
   "pygments_lexer": "ipython3",
   "version": "3.9.19"
  }
 },
 "nbformat": 4,
 "nbformat_minor": 5
}
