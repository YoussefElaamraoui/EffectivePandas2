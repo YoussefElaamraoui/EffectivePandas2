{
 "cells": [
  {
   "cell_type": "code",
   "id": "initial_id",
   "metadata": {
    "collapsed": true,
    "ExecuteTime": {
     "end_time": "2025-01-25T17:19:00.991713Z",
     "start_time": "2025-01-25T17:18:59.899757Z"
    }
   },
   "source": [
    "import numpy as np\n",
    "import pandas as pd"
   ],
   "outputs": [],
   "execution_count": 1
  },
  {
   "metadata": {},
   "cell_type": "markdown",
   "source": "## 1 - Create a seris from a numeric column that has the value of 'high' if it is equal to or above the mean and 'low' if it is below the mearn using .apply ",
   "id": "2e61f844679800b9"
  },
  {
   "metadata": {
    "ExecuteTime": {
     "end_time": "2025-01-25T17:21:19.563587Z",
     "start_time": "2025-01-25T17:21:19.521848Z"
    }
   },
   "cell_type": "code",
   "source": "numeric_column = pd.Series(np.random.randn(5))",
   "id": "9259785647cb2f8e",
   "outputs": [],
   "execution_count": 2
  },
  {
   "metadata": {
    "ExecuteTime": {
     "end_time": "2025-01-25T17:21:21.980450Z",
     "start_time": "2025-01-25T17:21:21.952557Z"
    }
   },
   "cell_type": "code",
   "source": "numeric_column",
   "id": "e408d66ef9a1bc63",
   "outputs": [
    {
     "data": {
      "text/plain": [
       "0    0.215490\n",
       "1    0.532703\n",
       "2    0.881968\n",
       "3    0.414785\n",
       "4    0.530502\n",
       "5    0.728530\n",
       "6    0.671015\n",
       "7    0.643173\n",
       "8    0.928301\n",
       "9    0.893165\n",
       "dtype: float64"
      ]
     },
     "execution_count": 3,
     "metadata": {},
     "output_type": "execute_result"
    }
   ],
   "execution_count": 3
  },
  {
   "metadata": {
    "ExecuteTime": {
     "end_time": "2025-01-25T17:22:55.571796Z",
     "start_time": "2025-01-25T17:22:55.545723Z"
    }
   },
   "cell_type": "code",
   "source": "numeric_column.agg(['mean','count'])",
   "id": "2886c61c36902e7",
   "outputs": [
    {
     "data": {
      "text/plain": [
       "mean      0.643963\n",
       "count    10.000000\n",
       "dtype: float64"
      ]
     },
     "execution_count": 6,
     "metadata": {},
     "output_type": "execute_result"
    }
   ],
   "execution_count": 6
  },
  {
   "metadata": {
    "ExecuteTime": {
     "end_time": "2025-01-25T17:32:13.036355Z",
     "start_time": "2025-01-25T17:32:13.010560Z"
    }
   },
   "cell_type": "code",
   "source": [
    "def high_low(val):\n",
    "    if val > numeric_column.mean():\n",
    "        return 'High'\n",
    "    else:\n",
    "        return 'Low'\n",
    "\n",
    "numeric_column.apply(high_low)\n"
   ],
   "id": "db23d6ecfb8babc9",
   "outputs": [
    {
     "data": {
      "text/plain": [
       "0     Low\n",
       "1     Low\n",
       "2    High\n",
       "3     Low\n",
       "4     Low\n",
       "5    High\n",
       "6    High\n",
       "7     Low\n",
       "8    High\n",
       "9    High\n",
       "dtype: object"
      ]
     },
     "execution_count": 9,
     "metadata": {},
     "output_type": "execute_result"
    }
   ],
   "execution_count": 9
  },
  {
   "metadata": {},
   "cell_type": "markdown",
   "source": "# 2 - Same exercise but using .case when ",
   "id": "b3ad2dfbf4027d8d"
  },
  {
   "metadata": {
    "ExecuteTime": {
     "end_time": "2025-01-25T17:40:38.521117Z",
     "start_time": "2025-01-25T17:40:38.454601Z"
    }
   },
   "cell_type": "code",
   "source": [
    "numeric_column.case_when(caselist=[(numeric_column>numeric_column.mean(),'High'),\n",
    "                                   (numeric_column<numeric_column.mean(),'Low'),\n",
    "                                   (numeric_column==numeric_column.mean(),'Mean')])"
   ],
   "id": "19d42c82ea382128",
   "outputs": [
    {
     "data": {
      "text/plain": [
       "0     Low\n",
       "1     Low\n",
       "2    High\n",
       "3     Low\n",
       "4     Low\n",
       "5    High\n",
       "6    High\n",
       "7     Low\n",
       "8    High\n",
       "9    High\n",
       "dtype: object"
      ]
     },
     "execution_count": 13,
     "metadata": {},
     "output_type": "execute_result"
    }
   ],
   "execution_count": 13
  },
  {
   "metadata": {},
   "cell_type": "markdown",
   "source": "# 3 - Time the previous exercises to see which is faster",
   "id": "2e1df454e8e61153"
  },
  {
   "metadata": {
    "ExecuteTime": {
     "end_time": "2025-01-25T17:45:54.011799Z",
     "start_time": "2025-01-25T17:45:42.584373Z"
    }
   },
   "cell_type": "code",
   "source": [
    "%%timeit\n",
    "def high_low(val):\n",
    "    if val > numeric_column.mean():\n",
    "        return 'High'\n",
    "    else:\n",
    "        return 'Low'\n",
    "\n",
    "numeric_column.apply(high_low)"
   ],
   "id": "a0bed9dbd01fb390",
   "outputs": [
    {
     "name": "stdout",
     "output_type": "stream",
     "text": [
      "140 µs ± 37.1 µs per loop (mean ± std. dev. of 7 runs, 10,000 loops each)\n"
     ]
    }
   ],
   "execution_count": 16
  },
  {
   "metadata": {
    "ExecuteTime": {
     "end_time": "2025-01-25T17:46:27.421338Z",
     "start_time": "2025-01-25T17:46:20.240545Z"
    }
   },
   "cell_type": "code",
   "source": [
    "%%timeit\n",
    "numeric_column.case_when(caselist=[(numeric_column>numeric_column.mean(),'High'),\n",
    "                                   (numeric_column<numeric_column.mean(),'Low'),\n",
    "                                   (numeric_column==numeric_column.mean(),'Mean')])"
   ],
   "id": "e28ce1e7631e4e9a",
   "outputs": [
    {
     "name": "stdout",
     "output_type": "stream",
     "text": [
      "900 µs ± 241 µs per loop (mean ± std. dev. of 7 runs, 1,000 loops each)\n"
     ]
    }
   ],
   "execution_count": 18
  },
  {
   "metadata": {},
   "cell_type": "markdown",
   "source": "# 4- Replace the values of  a numeric series with the median value",
   "id": "7a5c3dfd6ea9ced9"
  },
  {
   "metadata": {
    "ExecuteTime": {
     "end_time": "2025-01-25T17:47:04.396565Z",
     "start_time": "2025-01-25T17:47:04.335527Z"
    }
   },
   "cell_type": "code",
   "source": [
    "# Create a list of numbers from 0 to 99 and include NaN\n",
    "values = list(range(100)) + [np.nan]\n",
    "\n",
    "# Define probabilities: 100 values + 1 NaN\n",
    "probabilities = [0.008] * 100 + [0.20]  # 0.008 * 100 + 0.20 = 1.0\n",
    "\n",
    "# Create a Series with random numbers (0-99) and NaNs (~20% probability)\n",
    "num_series = pd.Series(np.random.choice(values, size=10, p=probabilities))\n",
    "\n",
    "print(num_series)"
   ],
   "id": "cdcbd8a3f181b138",
   "outputs": [
    {
     "name": "stdout",
     "output_type": "stream",
     "text": [
      "0    50.0\n",
      "1    23.0\n",
      "2    79.0\n",
      "3    68.0\n",
      "4    90.0\n",
      "5    40.0\n",
      "6     9.0\n",
      "7    25.0\n",
      "8     NaN\n",
      "9    37.0\n",
      "dtype: float64\n"
     ]
    }
   ],
   "execution_count": 19
  },
  {
   "metadata": {
    "ExecuteTime": {
     "end_time": "2025-01-25T17:47:14.683031Z",
     "start_time": "2025-01-25T17:47:14.633863Z"
    }
   },
   "cell_type": "code",
   "source": "num_series.median()",
   "id": "515fbc642036d3cc",
   "outputs": [
    {
     "data": {
      "text/plain": [
       "40.0"
      ]
     },
     "execution_count": 20,
     "metadata": {},
     "output_type": "execute_result"
    }
   ],
   "execution_count": 20
  },
  {
   "metadata": {
    "ExecuteTime": {
     "end_time": "2025-01-25T17:48:38.464227Z",
     "start_time": "2025-01-25T17:48:38.427136Z"
    }
   },
   "cell_type": "code",
   "source": "num_series.fillna((num_series.median()))",
   "id": "d17a4867ae29559a",
   "outputs": [
    {
     "data": {
      "text/plain": [
       "0    50.0\n",
       "1    23.0\n",
       "2    79.0\n",
       "3    68.0\n",
       "4    90.0\n",
       "5    40.0\n",
       "6     9.0\n",
       "7    25.0\n",
       "8    40.0\n",
       "9    37.0\n",
       "dtype: float64"
      ]
     },
     "execution_count": 22,
     "metadata": {},
     "output_type": "execute_result"
    }
   ],
   "execution_count": 22
  },
  {
   "metadata": {},
   "cell_type": "markdown",
   "source": "# 5 - Clip the values of a numeric series between to 10th and 90th percentiles",
   "id": "313319398ef6844c"
  },
  {
   "metadata": {
    "ExecuteTime": {
     "end_time": "2025-01-25T17:55:11.974600Z",
     "start_time": "2025-01-25T17:55:11.914681Z"
    }
   },
   "cell_type": "code",
   "source": "clipped_values = numeric_column.clip(lower=numeric_column.quantile(0.1), upper=numeric_column.quantile(0.9))",
   "id": "d46271d511655393",
   "outputs": [],
   "execution_count": 29
  },
  {
   "metadata": {
    "ExecuteTime": {
     "end_time": "2025-01-25T17:55:12.739097Z",
     "start_time": "2025-01-25T17:55:12.721601Z"
    }
   },
   "cell_type": "code",
   "source": "clipped_values",
   "id": "6a5b78abc4d38c52",
   "outputs": [
    {
     "data": {
      "text/plain": [
       "0    0.394856\n",
       "1    0.532703\n",
       "2    0.881968\n",
       "3    0.414785\n",
       "4    0.530502\n",
       "5    0.728530\n",
       "6    0.671015\n",
       "7    0.643173\n",
       "8    0.896678\n",
       "9    0.893165\n",
       "dtype: float64"
      ]
     },
     "execution_count": 30,
     "metadata": {},
     "output_type": "execute_result"
    }
   ],
   "execution_count": 30
  },
  {
   "metadata": {
    "ExecuteTime": {
     "end_time": "2025-01-25T17:55:14.729800Z",
     "start_time": "2025-01-25T17:55:14.707883Z"
    }
   },
   "cell_type": "code",
   "source": [
    "print(f\"Lower bound (10th percentile): {numeric_column.quantile(0.1)}\")\n",
    "print(f\"Upper bound (90th percentile): {numeric_column.quantile(0.9)}\")"
   ],
   "id": "18767c1a6d0f20b5",
   "outputs": [
    {
     "name": "stdout",
     "output_type": "stream",
     "text": [
      "Lower bound (10th percentile): 0.3948559129916856\n",
      "Upper bound (90th percentile): 0.8966784120828478\n"
     ]
    }
   ],
   "execution_count": 31
  },
  {
   "metadata": {},
   "cell_type": "code",
   "outputs": [],
   "execution_count": null,
   "source": "",
   "id": "6770697a0a7ddbf7"
  }
 ],
 "metadata": {
  "kernelspec": {
   "display_name": "Python 3",
   "language": "python",
   "name": "python3"
  },
  "language_info": {
   "codemirror_mode": {
    "name": "ipython",
    "version": 2
   },
   "file_extension": ".py",
   "mimetype": "text/x-python",
   "name": "python",
   "nbconvert_exporter": "python",
   "pygments_lexer": "ipython2",
   "version": "2.7.6"
  }
 },
 "nbformat": 4,
 "nbformat_minor": 5
}
