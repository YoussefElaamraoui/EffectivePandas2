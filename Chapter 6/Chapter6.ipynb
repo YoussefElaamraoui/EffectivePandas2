{
 "cells": [
  {
   "metadata": {},
   "cell_type": "markdown",
   "source": [
    "# This is the first exercise\n",
    "\n",
    "Create a series with the temperature values for the last seven days. \n",
    "Filter out the values below the mean"
   ],
   "id": "f33908f02ea9ecaf"
  },
  {
   "metadata": {
    "ExecuteTime": {
     "end_time": "2025-01-22T11:36:39.836068Z",
     "start_time": "2025-01-22T11:36:39.726417Z"
    }
   },
   "cell_type": "code",
   "source": [
    "import pandas as pd \n",
    "import numpy as np"
   ],
   "id": "d53f8ed0294613b7",
   "outputs": [],
   "execution_count": 12
  },
  {
   "metadata": {
    "ExecuteTime": {
     "end_time": "2025-01-22T11:36:40.158236Z",
     "start_time": "2025-01-22T11:36:40.099643Z"
    }
   },
   "cell_type": "code",
   "source": [
    "temperature = np.random.uniform(low=10, high=30, size=7) \n",
    "seven_days = pd.Series(temperature, index=pd.date_range('2025-01-14', periods=7),\n",
    "name='last_seven_days')"
   ],
   "id": "c5fc0cf350223fca",
   "outputs": [],
   "execution_count": 13
  },
  {
   "metadata": {
    "ExecuteTime": {
     "end_time": "2025-01-22T11:36:40.439720Z",
     "start_time": "2025-01-22T11:36:40.410633Z"
    }
   },
   "cell_type": "code",
   "source": "print(seven_days)",
   "id": "8c0937eaaba1e84c",
   "outputs": [
    {
     "name": "stdout",
     "output_type": "stream",
     "text": [
      "2025-01-14    25.087130\n",
      "2025-01-15    14.420093\n",
      "2025-01-16    12.447516\n",
      "2025-01-17    29.920659\n",
      "2025-01-18    11.078390\n",
      "2025-01-19    15.396368\n",
      "2025-01-20    22.718875\n",
      "Freq: D, Name: last_seven_days, dtype: float64\n"
     ]
    }
   ],
   "execution_count": 14
  },
  {
   "metadata": {
    "ExecuteTime": {
     "end_time": "2025-01-22T11:36:40.780369Z",
     "start_time": "2025-01-22T11:36:40.765694Z"
    }
   },
   "cell_type": "code",
   "source": "print(\"Questa è la mediana :\", seven_days.mean())",
   "id": "98605080e7267e64",
   "outputs": [
    {
     "name": "stdout",
     "output_type": "stream",
     "text": [
      "Questa è la mediana : 18.72414732612432\n"
     ]
    }
   ],
   "execution_count": 15
  },
  {
   "metadata": {
    "ExecuteTime": {
     "end_time": "2025-01-22T11:36:41.040991Z",
     "start_time": "2025-01-22T11:36:41.009088Z"
    }
   },
   "cell_type": "code",
   "source": "print(seven_days[seven_days>seven_days.mean()])",
   "id": "ab15053ce7b078e1",
   "outputs": [
    {
     "name": "stdout",
     "output_type": "stream",
     "text": [
      "2025-01-14    25.087130\n",
      "2025-01-17    29.920659\n",
      "2025-01-20    22.718875\n",
      "Name: last_seven_days, dtype: float64\n"
     ]
    }
   ],
   "execution_count": 16
  },
  {
   "metadata": {},
   "cell_type": "markdown",
   "source": [
    "# This is the second exercise \n",
    "\n",
    "Using jupyternotebook to  create a series with your favorite colors, use a categorical type"
   ],
   "id": "e0043c3efa7294b7"
  },
  {
   "metadata": {
    "ExecuteTime": {
     "end_time": "2025-01-22T11:36:42.007281Z",
     "start_time": "2025-01-22T11:36:41.992765Z"
    }
   },
   "cell_type": "code",
   "source": "colors = pd.Series(['Navy','Blu','Nero','Bianco'],dtype='category',name='colori')",
   "id": "ccb87f704b0518f8",
   "outputs": [],
   "execution_count": 17
  },
  {
   "metadata": {
    "ExecuteTime": {
     "end_time": "2025-01-22T11:36:42.755732Z",
     "start_time": "2025-01-22T11:36:42.729765Z"
    }
   },
   "cell_type": "code",
   "source": "print(colors)",
   "id": "b137d1f8596f9d01",
   "outputs": [
    {
     "name": "stdout",
     "output_type": "stream",
     "text": [
      "0      Navy\n",
      "1       Blu\n",
      "2      Nero\n",
      "3    Bianco\n",
      "Name: colori, dtype: category\n",
      "Categories (4, object): ['Bianco', 'Blu', 'Navy', 'Nero']\n"
     ]
    }
   ],
   "execution_count": 18
  }
 ],
 "metadata": {
  "kernelspec": {
   "display_name": "Python 3",
   "language": "python",
   "name": "python3"
  },
  "language_info": {
   "codemirror_mode": {
    "name": "ipython",
    "version": 2
   },
   "file_extension": ".py",
   "mimetype": "text/x-python",
   "name": "python",
   "nbconvert_exporter": "python",
   "pygments_lexer": "ipython2",
   "version": "2.7.6"
  }
 },
 "nbformat": 4,
 "nbformat_minor": 5
}
