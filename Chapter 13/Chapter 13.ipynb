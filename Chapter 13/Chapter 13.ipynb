{
 "cells": [
  {
   "cell_type": "code",
   "execution_count": 1,
   "id": "initial_id",
   "metadata": {
    "ExecuteTime": {
     "start_time": "2025-01-30T15:21:27.282313Z"
    },
    "jupyter": {
     "is_executing": true
    }
   },
   "outputs": [],
   "source": [
    "import pandas as pd \n",
    "import numpy as np"
   ]
  },
  {
   "cell_type": "code",
   "execution_count": 3,
   "id": "20f860b6",
   "metadata": {},
   "outputs": [],
   "source": [
    "column = pd.Series(['Alice', 'Bob', 'Charlie', 'David', 'Emma'])"
   ]
  },
  {
   "cell_type": "markdown",
   "id": "e0690bc5",
   "metadata": {},
   "source": [
    "# 1 - Using a string column, lowercase the values."
   ]
  },
  {
   "cell_type": "code",
   "execution_count": 4,
   "id": "d2655903",
   "metadata": {},
   "outputs": [
    {
     "data": {
      "text/plain": [
       "0      Alice\n",
       "1        Bob\n",
       "2    Charlie\n",
       "3      David\n",
       "4       Emma\n",
       "dtype: object"
      ]
     },
     "execution_count": 4,
     "metadata": {},
     "output_type": "execute_result"
    }
   ],
   "source": [
    "column # as you can see its an object"
   ]
  },
  {
   "cell_type": "code",
   "execution_count": 5,
   "id": "30ea001e",
   "metadata": {},
   "outputs": [],
   "source": [
    "import pyarrow as pa"
   ]
  },
  {
   "cell_type": "code",
   "execution_count": 6,
   "id": "0f83e8e2",
   "metadata": {},
   "outputs": [],
   "source": [
    "string_column = pd.ArrowDtype(pa.string())"
   ]
  },
  {
   "cell_type": "code",
   "execution_count": 7,
   "id": "479f9da2",
   "metadata": {},
   "outputs": [
    {
     "data": {
      "text/plain": [
       "0      Alice\n",
       "1        Bob\n",
       "2    Charlie\n",
       "3      David\n",
       "4       Emma\n",
       "dtype: string[pyarrow]"
      ]
     },
     "execution_count": 7,
     "metadata": {},
     "output_type": "execute_result"
    }
   ],
   "source": [
    "column.astype(str).astype(string_column)"
   ]
  },
  {
   "cell_type": "code",
   "execution_count": 8,
   "id": "55419acf",
   "metadata": {},
   "outputs": [],
   "source": [
    "column = column.str.lower()"
   ]
  },
  {
   "cell_type": "code",
   "execution_count": 9,
   "id": "d4ca4ffe",
   "metadata": {},
   "outputs": [
    {
     "data": {
      "text/plain": [
       "0      alice\n",
       "1        bob\n",
       "2    charlie\n",
       "3      david\n",
       "4       emma\n",
       "dtype: object"
      ]
     },
     "execution_count": 9,
     "metadata": {},
     "output_type": "execute_result"
    }
   ],
   "source": [
    "column"
   ]
  },
  {
   "cell_type": "markdown",
   "id": "94b06c7a",
   "metadata": {},
   "source": [
    "# 2 - Using a string column, slice out the first character"
   ]
  },
  {
   "cell_type": "code",
   "execution_count": 17,
   "id": "3b9f613c",
   "metadata": {},
   "outputs": [
    {
     "data": {
      "text/plain": [
       "0      l\n",
       "1       \n",
       "2    har\n",
       "3      a\n",
       "4       \n",
       "dtype: object"
      ]
     },
     "execution_count": 17,
     "metadata": {},
     "output_type": "execute_result"
    }
   ],
   "source": [
    "column.str.slice(start = 1,stop=None)"
   ]
  },
  {
   "cell_type": "markdown",
   "id": "ad6fae4a",
   "metadata": {},
   "source": [
    "# 3 - Using a string column, slice out the last three characters"
   ]
  },
  {
   "cell_type": "code",
   "execution_count": 16,
   "id": "311763de",
   "metadata": {},
   "outputs": [
    {
     "data": {
      "text/plain": [
       "0      al\n",
       "1        \n",
       "2    char\n",
       "3      da\n",
       "4       e\n",
       "dtype: object"
      ]
     },
     "execution_count": 16,
     "metadata": {},
     "output_type": "execute_result"
    }
   ],
   "source": [
    "column"
   ]
  },
  {
   "cell_type": "code",
   "execution_count": 15,
   "id": "9dfcb75f",
   "metadata": {},
   "outputs": [
    {
     "data": {
      "text/plain": [
       "0     \n",
       "1     \n",
       "2    c\n",
       "3     \n",
       "4     \n",
       "dtype: object"
      ]
     },
     "execution_count": 15,
     "metadata": {},
     "output_type": "execute_result"
    }
   ],
   "source": []
  },
  {
   "cell_type": "code",
   "execution_count": null,
   "id": "6e8a0ded",
   "metadata": {
    "collapsed": true
   },
   "outputs": [],
   "source": []
  },
  {
   "cell_type": "markdown",
   "id": "0d12609b",
   "metadata": {},
   "source": [
    "# 4 - Create a series extracting the numeric values using a string column "
   ]
  },
  {
   "cell_type": "code",
   "execution_count": null,
   "id": "fc2be745",
   "metadata": {},
   "outputs": [],
   "source": []
  },
  {
   "cell_type": "markdown",
   "id": "bb4af638",
   "metadata": {},
   "source": [
    "# 5 - Using a string column, create a series extracting the non-ASCII values  "
   ]
  },
  {
   "cell_type": "code",
   "execution_count": null,
   "id": "8ff90ffa",
   "metadata": {},
   "outputs": [],
   "source": []
  },
  {
   "cell_type": "code",
   "execution_count": null,
   "id": "4a474345",
   "metadata": {},
   "outputs": [],
   "source": []
  },
  {
   "cell_type": "markdown",
   "id": "3fd04831",
   "metadata": {},
   "source": [
    "# 6 - Using a string column, create a dataframe with the dummy columns from every character in the column"
   ]
  },
  {
   "cell_type": "code",
   "execution_count": null,
   "id": "e785db02",
   "metadata": {},
   "outputs": [],
   "source": []
  }
 ],
 "metadata": {
  "kernelspec": {
   "display_name": "Python 3 (ipykernel)",
   "language": "python",
   "name": "python3"
  },
  "language_info": {
   "codemirror_mode": {
    "name": "ipython",
    "version": 3
   },
   "file_extension": ".py",
   "mimetype": "text/x-python",
   "name": "python",
   "nbconvert_exporter": "python",
   "pygments_lexer": "ipython3",
   "version": "3.9.19"
  }
 },
 "nbformat": 4,
 "nbformat_minor": 5
}
