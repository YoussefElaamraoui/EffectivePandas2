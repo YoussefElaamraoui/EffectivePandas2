{
 "cells": [
  {
   "cell_type": "code",
   "execution_count": 1,
   "id": "initial_id",
   "metadata": {
    "ExecuteTime": {
     "end_time": "2025-01-31T12:11:25.266095Z",
     "start_time": "2025-01-31T12:11:24.508030Z"
    }
   },
   "outputs": [],
   "source": [
    "import pandas as pd \n",
    "import numpy as np"
   ]
  },
  {
   "cell_type": "code",
   "execution_count": 2,
   "id": "20f860b6",
   "metadata": {
    "ExecuteTime": {
     "end_time": "2025-01-31T12:11:25.273656Z",
     "start_time": "2025-01-31T12:11:25.268472Z"
    }
   },
   "outputs": [],
   "source": [
    "column = pd.Series(['Alice', 'Bob', 'Charlie', 'David', 'Emma'])"
   ]
  },
  {
   "cell_type": "markdown",
   "id": "e0690bc5",
   "metadata": {},
   "source": [
    "# 1 - Using a string column, lowercase the values."
   ]
  },
  {
   "cell_type": "code",
   "execution_count": 3,
   "id": "d2655903",
   "metadata": {
    "ExecuteTime": {
     "end_time": "2025-01-31T12:11:25.289326Z",
     "start_time": "2025-01-31T12:11:25.275173Z"
    }
   },
   "outputs": [
    {
     "data": {
      "text/plain": [
       "0      Alice\n",
       "1        Bob\n",
       "2    Charlie\n",
       "3      David\n",
       "4       Emma\n",
       "dtype: object"
      ]
     },
     "execution_count": 3,
     "metadata": {},
     "output_type": "execute_result"
    }
   ],
   "source": [
    "column # as you can see its an object"
   ]
  },
  {
   "cell_type": "code",
   "execution_count": 4,
   "id": "30ea001e",
   "metadata": {
    "ExecuteTime": {
     "end_time": "2025-01-31T12:11:25.295237Z",
     "start_time": "2025-01-31T12:11:25.292743Z"
    }
   },
   "outputs": [],
   "source": [
    "import pyarrow as pa"
   ]
  },
  {
   "cell_type": "code",
   "execution_count": 5,
   "id": "0f83e8e2",
   "metadata": {
    "ExecuteTime": {
     "end_time": "2025-01-31T12:11:25.301261Z",
     "start_time": "2025-01-31T12:11:25.297486Z"
    }
   },
   "outputs": [],
   "source": [
    "apache_string_column = pd.ArrowDtype(pa.string())"
   ]
  },
  {
   "cell_type": "code",
   "execution_count": 6,
   "id": "479f9da2",
   "metadata": {
    "ExecuteTime": {
     "end_time": "2025-01-31T12:11:25.323393Z",
     "start_time": "2025-01-31T12:11:25.302679Z"
    }
   },
   "outputs": [
    {
     "data": {
      "text/plain": [
       "0      Alice\n",
       "1        Bob\n",
       "2    Charlie\n",
       "3      David\n",
       "4       Emma\n",
       "dtype: string[pyarrow]"
      ]
     },
     "execution_count": 6,
     "metadata": {},
     "output_type": "execute_result"
    }
   ],
   "source": [
    "column.astype(str).astype(apache_string_column)"
   ]
  },
  {
   "cell_type": "code",
   "execution_count": 7,
   "id": "55419acf",
   "metadata": {
    "ExecuteTime": {
     "end_time": "2025-01-31T12:11:25.332264Z",
     "start_time": "2025-01-31T12:11:25.326224Z"
    }
   },
   "outputs": [],
   "source": [
    "column = column.str.lower()"
   ]
  },
  {
   "cell_type": "code",
   "execution_count": 8,
   "id": "d4ca4ffe",
   "metadata": {
    "ExecuteTime": {
     "end_time": "2025-01-31T12:11:25.342179Z",
     "start_time": "2025-01-31T12:11:25.335133Z"
    }
   },
   "outputs": [
    {
     "data": {
      "text/plain": [
       "0      alice\n",
       "1        bob\n",
       "2    charlie\n",
       "3      david\n",
       "4       emma\n",
       "dtype: object"
      ]
     },
     "execution_count": 8,
     "metadata": {},
     "output_type": "execute_result"
    }
   ],
   "source": [
    "column"
   ]
  },
  {
   "cell_type": "markdown",
   "id": "94b06c7a",
   "metadata": {},
   "source": [
    "# 2 - Using a string column, slice out the first character"
   ]
  },
  {
   "cell_type": "code",
   "execution_count": 9,
   "id": "3b9f613c",
   "metadata": {
    "ExecuteTime": {
     "end_time": "2025-01-31T12:11:25.351194Z",
     "start_time": "2025-01-31T12:11:25.343808Z"
    }
   },
   "outputs": [
    {
     "data": {
      "text/plain": [
       "0      lice\n",
       "1        ob\n",
       "2    harlie\n",
       "3      avid\n",
       "4       mma\n",
       "dtype: object"
      ]
     },
     "execution_count": 9,
     "metadata": {},
     "output_type": "execute_result"
    }
   ],
   "source": [
    "column.str.slice(start = 1,stop=None)"
   ]
  },
  {
   "cell_type": "markdown",
   "id": "ad6fae4a",
   "metadata": {},
   "source": [
    "# 3 - Using a string column, slice out the last three characters"
   ]
  },
  {
   "cell_type": "code",
   "execution_count": 10,
   "id": "311763de",
   "metadata": {
    "ExecuteTime": {
     "end_time": "2025-01-31T12:11:25.362730Z",
     "start_time": "2025-01-31T12:11:25.357114Z"
    }
   },
   "outputs": [
    {
     "data": {
      "text/plain": [
       "0      alice\n",
       "1        bob\n",
       "2    charlie\n",
       "3      david\n",
       "4       emma\n",
       "dtype: object"
      ]
     },
     "execution_count": 10,
     "metadata": {},
     "output_type": "execute_result"
    }
   ],
   "source": [
    "column"
   ]
  },
  {
   "cell_type": "markdown",
   "id": "0d12609b",
   "metadata": {},
   "source": [
    "# 4 - Create a series extracting the numeric values using a string column "
   ]
  },
  {
   "cell_type": "code",
   "execution_count": 11,
   "id": "330ea6c63068d88c",
   "metadata": {
    "ExecuteTime": {
     "end_time": "2025-01-31T12:11:25.373652Z",
     "start_time": "2025-01-31T12:11:25.371398Z"
    }
   },
   "outputs": [],
   "source": [
    "#Define the new string column, because i need text and number\n",
    "string_numeric_column = pd.Series(['45', '99', 'Item', 'Another Item'])\n",
    "\n",
    "#change the type to string\n",
    "string_numeric_column = string_numeric_column.astype(str)"
   ]
  },
  {
   "cell_type": "code",
   "execution_count": 12,
   "id": "b8c9505b",
   "metadata": {},
   "outputs": [],
   "source": [
    "#Change the type to arrow, pyarrow(Apache arrows)\n",
    "string_numeric_column = string_numeric_column.astype(apache_string_column)"
   ]
  },
  {
   "cell_type": "code",
   "execution_count": 13,
   "id": "4809039a",
   "metadata": {},
   "outputs": [
    {
     "data": {
      "text/plain": [
       "0              45\n",
       "1              99\n",
       "2            Item\n",
       "3    Another Item\n",
       "dtype: string[pyarrow]"
      ]
     },
     "execution_count": 13,
     "metadata": {},
     "output_type": "execute_result"
    }
   ],
   "source": [
    "#Check if its all good\n",
    "string_numeric_column"
   ]
  },
  {
   "cell_type": "code",
   "execution_count": 23,
   "id": "fa4b1d3f",
   "metadata": {},
   "outputs": [
    {
     "data": {
      "text/plain": [
       "0      45\n",
       "1      99\n",
       "2    <NA>\n",
       "3    <NA>\n",
       "Name: number, dtype: string[pyarrow]"
      ]
     },
     "execution_count": 23,
     "metadata": {},
     "output_type": "execute_result"
    }
   ],
   "source": [
    "string_numeric_column.str.extract(r'(?P<number>\\d+)',expand=False)"
   ]
  },
  {
   "cell_type": "markdown",
   "id": "bb4af638",
   "metadata": {},
   "source": [
    "# 5 - Using a string column, create a series extracting the non-ASCII values  "
   ]
  },
  {
   "cell_type": "code",
   "execution_count": 31,
   "id": "8ff90ffa",
   "metadata": {
    "ExecuteTime": {
     "end_time": "2025-01-31T12:11:25.378384Z",
     "start_time": "2025-01-31T12:11:25.375325Z"
    }
   },
   "outputs": [
    {
     "data": {
      "text/html": [
       "<div>\n",
       "<style scoped>\n",
       "    .dataframe tbody tr th:only-of-type {\n",
       "        vertical-align: middle;\n",
       "    }\n",
       "\n",
       "    .dataframe tbody tr th {\n",
       "        vertical-align: top;\n",
       "    }\n",
       "\n",
       "    .dataframe thead th {\n",
       "        text-align: right;\n",
       "    }\n",
       "</style>\n",
       "<table border=\"1\" class=\"dataframe\">\n",
       "  <thead>\n",
       "    <tr style=\"text-align: right;\">\n",
       "      <th></th>\n",
       "      <th>non_ascii</th>\n",
       "    </tr>\n",
       "  </thead>\n",
       "  <tbody>\n",
       "    <tr>\n",
       "      <th>0</th>\n",
       "      <td>&lt;NA&gt;</td>\n",
       "    </tr>\n",
       "    <tr>\n",
       "      <th>1</th>\n",
       "      <td>&lt;NA&gt;</td>\n",
       "    </tr>\n",
       "    <tr>\n",
       "      <th>2</th>\n",
       "      <td>&lt;NA&gt;</td>\n",
       "    </tr>\n",
       "    <tr>\n",
       "      <th>3</th>\n",
       "      <td>&lt;NA&gt;</td>\n",
       "    </tr>\n",
       "  </tbody>\n",
       "</table>\n",
       "</div>"
      ],
      "text/plain": [
       "  non_ascii\n",
       "0      <NA>\n",
       "1      <NA>\n",
       "2      <NA>\n",
       "3      <NA>"
      ]
     },
     "execution_count": 31,
     "metadata": {},
     "output_type": "execute_result"
    }
   ],
   "source": [
    "string_numeric_column.str.extract(r'(?P<non_ascii>[^\\x00-\\x7F])')"
   ]
  },
  {
   "cell_type": "markdown",
   "id": "3fd04831",
   "metadata": {},
   "source": [
    "# 6 - Using a string column, create a dataframe with the dummy columns from every character in the column"
   ]
  },
  {
   "cell_type": "code",
   "execution_count": null,
   "id": "e785db02",
   "metadata": {
    "ExecuteTime": {
     "end_time": "2025-01-31T12:11:25.387500Z",
     "start_time": "2025-01-31T12:11:25.384920Z"
    }
   },
   "outputs": [],
   "source": []
  }
 ],
 "metadata": {
  "kernelspec": {
   "display_name": "Python 3 (ipykernel)",
   "language": "python",
   "name": "python3"
  },
  "language_info": {
   "codemirror_mode": {
    "name": "ipython",
    "version": 3
   },
   "file_extension": ".py",
   "mimetype": "text/x-python",
   "name": "python",
   "nbconvert_exporter": "python",
   "pygments_lexer": "ipython3",
   "version": "3.9.19"
  }
 },
 "nbformat": 4,
 "nbformat_minor": 5
}
