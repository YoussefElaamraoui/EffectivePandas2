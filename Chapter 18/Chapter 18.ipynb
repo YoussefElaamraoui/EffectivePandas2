{
 "cells": [
  {
   "cell_type": "code",
   "id": "initial_id",
   "metadata": {
    "collapsed": true,
    "ExecuteTime": {
     "end_time": "2025-02-10T13:38:07.588659Z",
     "start_time": "2025-02-10T13:38:07.012166Z"
    }
   },
   "source": [
    "import pandas as pd \n",
    "import numpy as np"
   ],
   "outputs": [],
   "execution_count": 1
  },
  {
   "metadata": {},
   "cell_type": "markdown",
   "source": "# 1 - Create a dataframe with the names of your colleagues, their age(or an estimate),and their title ",
   "id": "6fd747386ad6b559"
  },
  {
   "metadata": {
    "ExecuteTime": {
     "end_time": "2025-02-10T13:51:15.412053Z",
     "start_time": "2025-02-10T13:51:15.403543Z"
    }
   },
   "cell_type": "code",
   "source": [
    "df = pd.DataFrame(\n",
    "    {\n",
    "        'Name':['emmanuel','mathias','nicolò','domenico'],\n",
    "        'Age':[23,24,23,23],\n",
    "        'title':['Ingegnere dei materiali e nanotecnologie','Sviluppatore Software','Psicologo','Ingegnere informatico']\n",
    "    }\n",
    ")"
   ],
   "id": "de0d374feb719eec",
   "outputs": [],
   "execution_count": 8
  },
  {
   "metadata": {
    "ExecuteTime": {
     "end_time": "2025-02-10T13:51:15.688139Z",
     "start_time": "2025-02-10T13:51:15.679425Z"
    }
   },
   "cell_type": "code",
   "source": "df",
   "id": "6ec4050fa547da1",
   "outputs": [
    {
     "data": {
      "text/plain": [
       "       Name  Age                                     title\n",
       "0  emmanuel   23  Ingegnere dei materiali e nanotecnologie\n",
       "1   mathias   24                     Sviluppatore Software\n",
       "2    nicolò   23                                 Psicologo\n",
       "3  domenico   23                     Ingegnere informatico"
      ],
      "text/html": [
       "<div>\n",
       "<style scoped>\n",
       "    .dataframe tbody tr th:only-of-type {\n",
       "        vertical-align: middle;\n",
       "    }\n",
       "\n",
       "    .dataframe tbody tr th {\n",
       "        vertical-align: top;\n",
       "    }\n",
       "\n",
       "    .dataframe thead th {\n",
       "        text-align: right;\n",
       "    }\n",
       "</style>\n",
       "<table border=\"1\" class=\"dataframe\">\n",
       "  <thead>\n",
       "    <tr style=\"text-align: right;\">\n",
       "      <th></th>\n",
       "      <th>Name</th>\n",
       "      <th>Age</th>\n",
       "      <th>title</th>\n",
       "    </tr>\n",
       "  </thead>\n",
       "  <tbody>\n",
       "    <tr>\n",
       "      <th>0</th>\n",
       "      <td>emmanuel</td>\n",
       "      <td>23</td>\n",
       "      <td>Ingegnere dei materiali e nanotecnologie</td>\n",
       "    </tr>\n",
       "    <tr>\n",
       "      <th>1</th>\n",
       "      <td>mathias</td>\n",
       "      <td>24</td>\n",
       "      <td>Sviluppatore Software</td>\n",
       "    </tr>\n",
       "    <tr>\n",
       "      <th>2</th>\n",
       "      <td>nicolò</td>\n",
       "      <td>23</td>\n",
       "      <td>Psicologo</td>\n",
       "    </tr>\n",
       "    <tr>\n",
       "      <th>3</th>\n",
       "      <td>domenico</td>\n",
       "      <td>23</td>\n",
       "      <td>Ingegnere informatico</td>\n",
       "    </tr>\n",
       "  </tbody>\n",
       "</table>\n",
       "</div>"
      ]
     },
     "execution_count": 9,
     "metadata": {},
     "output_type": "execute_result"
    }
   ],
   "execution_count": 9
  },
  {
   "metadata": {},
   "cell_type": "markdown",
   "source": "# 2 - capitalize the values in the name column",
   "id": "79c1e70a59cd2658"
  },
  {
   "metadata": {
    "ExecuteTime": {
     "end_time": "2025-02-10T13:56:53.619463Z",
     "start_time": "2025-02-10T13:56:53.607904Z"
    }
   },
   "cell_type": "code",
   "source": "df[\"Name\"]=df[\"Name\"].str.capitalize()",
   "id": "775e6dfaba273194",
   "outputs": [],
   "execution_count": 16
  },
  {
   "metadata": {
    "ExecuteTime": {
     "end_time": "2025-02-10T13:56:54.473127Z",
     "start_time": "2025-02-10T13:56:54.466185Z"
    }
   },
   "cell_type": "code",
   "source": "df",
   "id": "c72d824ce178b60e",
   "outputs": [
    {
     "data": {
      "text/plain": [
       "       Name  Age                                     title\n",
       "0  Emmanuel   23  Ingegnere dei materiali e nanotecnologie\n",
       "1   Mathias   24                     Sviluppatore Software\n",
       "2    Nicolò   23                                 Psicologo\n",
       "3  Domenico   23                     Ingegnere informatico"
      ],
      "text/html": [
       "<div>\n",
       "<style scoped>\n",
       "    .dataframe tbody tr th:only-of-type {\n",
       "        vertical-align: middle;\n",
       "    }\n",
       "\n",
       "    .dataframe tbody tr th {\n",
       "        vertical-align: top;\n",
       "    }\n",
       "\n",
       "    .dataframe thead th {\n",
       "        text-align: right;\n",
       "    }\n",
       "</style>\n",
       "<table border=\"1\" class=\"dataframe\">\n",
       "  <thead>\n",
       "    <tr style=\"text-align: right;\">\n",
       "      <th></th>\n",
       "      <th>Name</th>\n",
       "      <th>Age</th>\n",
       "      <th>title</th>\n",
       "    </tr>\n",
       "  </thead>\n",
       "  <tbody>\n",
       "    <tr>\n",
       "      <th>0</th>\n",
       "      <td>Emmanuel</td>\n",
       "      <td>23</td>\n",
       "      <td>Ingegnere dei materiali e nanotecnologie</td>\n",
       "    </tr>\n",
       "    <tr>\n",
       "      <th>1</th>\n",
       "      <td>Mathias</td>\n",
       "      <td>24</td>\n",
       "      <td>Sviluppatore Software</td>\n",
       "    </tr>\n",
       "    <tr>\n",
       "      <th>2</th>\n",
       "      <td>Nicolò</td>\n",
       "      <td>23</td>\n",
       "      <td>Psicologo</td>\n",
       "    </tr>\n",
       "    <tr>\n",
       "      <th>3</th>\n",
       "      <td>Domenico</td>\n",
       "      <td>23</td>\n",
       "      <td>Ingegnere informatico</td>\n",
       "    </tr>\n",
       "  </tbody>\n",
       "</table>\n",
       "</div>"
      ]
     },
     "execution_count": 17,
     "metadata": {},
     "output_type": "execute_result"
    }
   ],
   "execution_count": 17
  },
  {
   "metadata": {},
   "cell_type": "markdown",
   "source": "# 3-Sum up the values of the age column",
   "id": "b0a84955898f2caf"
  },
  {
   "metadata": {
    "ExecuteTime": {
     "end_time": "2025-02-10T13:56:56.558582Z",
     "start_time": "2025-02-10T13:56:56.553Z"
    }
   },
   "cell_type": "code",
   "source": "df['Age'].sum()",
   "id": "5c3ff0014dc6901a",
   "outputs": [
    {
     "data": {
      "text/plain": [
       "93"
      ]
     },
     "execution_count": 18,
     "metadata": {},
     "output_type": "execute_result"
    }
   ],
   "execution_count": 18
  }
 ],
 "metadata": {
  "kernelspec": {
   "display_name": "Python 3",
   "language": "python",
   "name": "python3"
  },
  "language_info": {
   "codemirror_mode": {
    "name": "ipython",
    "version": 2
   },
   "file_extension": ".py",
   "mimetype": "text/x-python",
   "name": "python",
   "nbconvert_exporter": "python",
   "pygments_lexer": "ipython2",
   "version": "2.7.6"
  }
 },
 "nbformat": 4,
 "nbformat_minor": 5
}
